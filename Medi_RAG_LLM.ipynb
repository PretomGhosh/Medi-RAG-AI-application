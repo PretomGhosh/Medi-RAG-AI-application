{
  "nbformat": 4,
  "nbformat_minor": 0,
  "metadata": {
    "colab": {
      "provenance": []
    },
    "kernelspec": {
      "name": "python3",
      "display_name": "Python 3"
    },
    "language_info": {
      "name": "python"
    },
    "widgets": {
      "application/vnd.jupyter.widget-state+json": {
        "3a988cb885cb41c8a0b17658a317a500": {
          "model_module": "@jupyter-widgets/controls",
          "model_name": "HBoxModel",
          "model_module_version": "1.5.0",
          "state": {
            "_dom_classes": [],
            "_model_module": "@jupyter-widgets/controls",
            "_model_module_version": "1.5.0",
            "_model_name": "HBoxModel",
            "_view_count": null,
            "_view_module": "@jupyter-widgets/controls",
            "_view_module_version": "1.5.0",
            "_view_name": "HBoxView",
            "box_style": "",
            "children": [
              "IPY_MODEL_9363b23ac23d46ac9d33224ab5d935e1",
              "IPY_MODEL_2ca535a659694539877f16123d83cc82",
              "IPY_MODEL_e181e5d042734d53b0fe9ceda5d5488c"
            ],
            "layout": "IPY_MODEL_d7c42bae395c4fd58ad8867bbc7cf563"
          }
        },
        "9363b23ac23d46ac9d33224ab5d935e1": {
          "model_module": "@jupyter-widgets/controls",
          "model_name": "HTMLModel",
          "model_module_version": "1.5.0",
          "state": {
            "_dom_classes": [],
            "_model_module": "@jupyter-widgets/controls",
            "_model_module_version": "1.5.0",
            "_model_name": "HTMLModel",
            "_view_count": null,
            "_view_module": "@jupyter-widgets/controls",
            "_view_module_version": "1.5.0",
            "_view_name": "HTMLView",
            "description": "",
            "description_tooltip": null,
            "layout": "IPY_MODEL_3840dad5158e4f6f824e18ed1dd2439e",
            "placeholder": "​",
            "style": "IPY_MODEL_536f6ea1dd074d49974669c5bcbeeec7",
            "value": "yolox_l0.05.onnx: 100%"
          }
        },
        "2ca535a659694539877f16123d83cc82": {
          "model_module": "@jupyter-widgets/controls",
          "model_name": "FloatProgressModel",
          "model_module_version": "1.5.0",
          "state": {
            "_dom_classes": [],
            "_model_module": "@jupyter-widgets/controls",
            "_model_module_version": "1.5.0",
            "_model_name": "FloatProgressModel",
            "_view_count": null,
            "_view_module": "@jupyter-widgets/controls",
            "_view_module_version": "1.5.0",
            "_view_name": "ProgressView",
            "bar_style": "success",
            "description": "",
            "description_tooltip": null,
            "layout": "IPY_MODEL_ca1de36363494758a85b3d594427da7a",
            "max": 216625723,
            "min": 0,
            "orientation": "horizontal",
            "style": "IPY_MODEL_f68b02d9031948f09e8e6486fb9fa332",
            "value": 216625723
          }
        },
        "e181e5d042734d53b0fe9ceda5d5488c": {
          "model_module": "@jupyter-widgets/controls",
          "model_name": "HTMLModel",
          "model_module_version": "1.5.0",
          "state": {
            "_dom_classes": [],
            "_model_module": "@jupyter-widgets/controls",
            "_model_module_version": "1.5.0",
            "_model_name": "HTMLModel",
            "_view_count": null,
            "_view_module": "@jupyter-widgets/controls",
            "_view_module_version": "1.5.0",
            "_view_name": "HTMLView",
            "description": "",
            "description_tooltip": null,
            "layout": "IPY_MODEL_a7d3c18346b445e19af4306db62fb6a5",
            "placeholder": "​",
            "style": "IPY_MODEL_7a0d1eb19d244f41bfd00478d407e6c2",
            "value": " 217M/217M [00:02&lt;00:00, 112MB/s]"
          }
        },
        "d7c42bae395c4fd58ad8867bbc7cf563": {
          "model_module": "@jupyter-widgets/base",
          "model_name": "LayoutModel",
          "model_module_version": "1.2.0",
          "state": {
            "_model_module": "@jupyter-widgets/base",
            "_model_module_version": "1.2.0",
            "_model_name": "LayoutModel",
            "_view_count": null,
            "_view_module": "@jupyter-widgets/base",
            "_view_module_version": "1.2.0",
            "_view_name": "LayoutView",
            "align_content": null,
            "align_items": null,
            "align_self": null,
            "border": null,
            "bottom": null,
            "display": null,
            "flex": null,
            "flex_flow": null,
            "grid_area": null,
            "grid_auto_columns": null,
            "grid_auto_flow": null,
            "grid_auto_rows": null,
            "grid_column": null,
            "grid_gap": null,
            "grid_row": null,
            "grid_template_areas": null,
            "grid_template_columns": null,
            "grid_template_rows": null,
            "height": null,
            "justify_content": null,
            "justify_items": null,
            "left": null,
            "margin": null,
            "max_height": null,
            "max_width": null,
            "min_height": null,
            "min_width": null,
            "object_fit": null,
            "object_position": null,
            "order": null,
            "overflow": null,
            "overflow_x": null,
            "overflow_y": null,
            "padding": null,
            "right": null,
            "top": null,
            "visibility": null,
            "width": null
          }
        },
        "3840dad5158e4f6f824e18ed1dd2439e": {
          "model_module": "@jupyter-widgets/base",
          "model_name": "LayoutModel",
          "model_module_version": "1.2.0",
          "state": {
            "_model_module": "@jupyter-widgets/base",
            "_model_module_version": "1.2.0",
            "_model_name": "LayoutModel",
            "_view_count": null,
            "_view_module": "@jupyter-widgets/base",
            "_view_module_version": "1.2.0",
            "_view_name": "LayoutView",
            "align_content": null,
            "align_items": null,
            "align_self": null,
            "border": null,
            "bottom": null,
            "display": null,
            "flex": null,
            "flex_flow": null,
            "grid_area": null,
            "grid_auto_columns": null,
            "grid_auto_flow": null,
            "grid_auto_rows": null,
            "grid_column": null,
            "grid_gap": null,
            "grid_row": null,
            "grid_template_areas": null,
            "grid_template_columns": null,
            "grid_template_rows": null,
            "height": null,
            "justify_content": null,
            "justify_items": null,
            "left": null,
            "margin": null,
            "max_height": null,
            "max_width": null,
            "min_height": null,
            "min_width": null,
            "object_fit": null,
            "object_position": null,
            "order": null,
            "overflow": null,
            "overflow_x": null,
            "overflow_y": null,
            "padding": null,
            "right": null,
            "top": null,
            "visibility": null,
            "width": null
          }
        },
        "536f6ea1dd074d49974669c5bcbeeec7": {
          "model_module": "@jupyter-widgets/controls",
          "model_name": "DescriptionStyleModel",
          "model_module_version": "1.5.0",
          "state": {
            "_model_module": "@jupyter-widgets/controls",
            "_model_module_version": "1.5.0",
            "_model_name": "DescriptionStyleModel",
            "_view_count": null,
            "_view_module": "@jupyter-widgets/base",
            "_view_module_version": "1.2.0",
            "_view_name": "StyleView",
            "description_width": ""
          }
        },
        "ca1de36363494758a85b3d594427da7a": {
          "model_module": "@jupyter-widgets/base",
          "model_name": "LayoutModel",
          "model_module_version": "1.2.0",
          "state": {
            "_model_module": "@jupyter-widgets/base",
            "_model_module_version": "1.2.0",
            "_model_name": "LayoutModel",
            "_view_count": null,
            "_view_module": "@jupyter-widgets/base",
            "_view_module_version": "1.2.0",
            "_view_name": "LayoutView",
            "align_content": null,
            "align_items": null,
            "align_self": null,
            "border": null,
            "bottom": null,
            "display": null,
            "flex": null,
            "flex_flow": null,
            "grid_area": null,
            "grid_auto_columns": null,
            "grid_auto_flow": null,
            "grid_auto_rows": null,
            "grid_column": null,
            "grid_gap": null,
            "grid_row": null,
            "grid_template_areas": null,
            "grid_template_columns": null,
            "grid_template_rows": null,
            "height": null,
            "justify_content": null,
            "justify_items": null,
            "left": null,
            "margin": null,
            "max_height": null,
            "max_width": null,
            "min_height": null,
            "min_width": null,
            "object_fit": null,
            "object_position": null,
            "order": null,
            "overflow": null,
            "overflow_x": null,
            "overflow_y": null,
            "padding": null,
            "right": null,
            "top": null,
            "visibility": null,
            "width": null
          }
        },
        "f68b02d9031948f09e8e6486fb9fa332": {
          "model_module": "@jupyter-widgets/controls",
          "model_name": "ProgressStyleModel",
          "model_module_version": "1.5.0",
          "state": {
            "_model_module": "@jupyter-widgets/controls",
            "_model_module_version": "1.5.0",
            "_model_name": "ProgressStyleModel",
            "_view_count": null,
            "_view_module": "@jupyter-widgets/base",
            "_view_module_version": "1.2.0",
            "_view_name": "StyleView",
            "bar_color": null,
            "description_width": ""
          }
        },
        "a7d3c18346b445e19af4306db62fb6a5": {
          "model_module": "@jupyter-widgets/base",
          "model_name": "LayoutModel",
          "model_module_version": "1.2.0",
          "state": {
            "_model_module": "@jupyter-widgets/base",
            "_model_module_version": "1.2.0",
            "_model_name": "LayoutModel",
            "_view_count": null,
            "_view_module": "@jupyter-widgets/base",
            "_view_module_version": "1.2.0",
            "_view_name": "LayoutView",
            "align_content": null,
            "align_items": null,
            "align_self": null,
            "border": null,
            "bottom": null,
            "display": null,
            "flex": null,
            "flex_flow": null,
            "grid_area": null,
            "grid_auto_columns": null,
            "grid_auto_flow": null,
            "grid_auto_rows": null,
            "grid_column": null,
            "grid_gap": null,
            "grid_row": null,
            "grid_template_areas": null,
            "grid_template_columns": null,
            "grid_template_rows": null,
            "height": null,
            "justify_content": null,
            "justify_items": null,
            "left": null,
            "margin": null,
            "max_height": null,
            "max_width": null,
            "min_height": null,
            "min_width": null,
            "object_fit": null,
            "object_position": null,
            "order": null,
            "overflow": null,
            "overflow_x": null,
            "overflow_y": null,
            "padding": null,
            "right": null,
            "top": null,
            "visibility": null,
            "width": null
          }
        },
        "7a0d1eb19d244f41bfd00478d407e6c2": {
          "model_module": "@jupyter-widgets/controls",
          "model_name": "DescriptionStyleModel",
          "model_module_version": "1.5.0",
          "state": {
            "_model_module": "@jupyter-widgets/controls",
            "_model_module_version": "1.5.0",
            "_model_name": "DescriptionStyleModel",
            "_view_count": null,
            "_view_module": "@jupyter-widgets/base",
            "_view_module_version": "1.2.0",
            "_view_name": "StyleView",
            "description_width": ""
          }
        },
        "4cc5fe035dfc430485a4e04b766e44f6": {
          "model_module": "@jupyter-widgets/controls",
          "model_name": "HBoxModel",
          "model_module_version": "1.5.0",
          "state": {
            "_dom_classes": [],
            "_model_module": "@jupyter-widgets/controls",
            "_model_module_version": "1.5.0",
            "_model_name": "HBoxModel",
            "_view_count": null,
            "_view_module": "@jupyter-widgets/controls",
            "_view_module_version": "1.5.0",
            "_view_name": "HBoxView",
            "box_style": "",
            "children": [
              "IPY_MODEL_4dbd8f720a424a16807a8de9deca8b32",
              "IPY_MODEL_c82ea78dc9734d1cb494601c99e91827",
              "IPY_MODEL_b9350b6ff68944c4a9408d22b0f5aeba"
            ],
            "layout": "IPY_MODEL_0df1867be02049f0b5d9c09ce7f17815"
          }
        },
        "4dbd8f720a424a16807a8de9deca8b32": {
          "model_module": "@jupyter-widgets/controls",
          "model_name": "HTMLModel",
          "model_module_version": "1.5.0",
          "state": {
            "_dom_classes": [],
            "_model_module": "@jupyter-widgets/controls",
            "_model_module_version": "1.5.0",
            "_model_name": "HTMLModel",
            "_view_count": null,
            "_view_module": "@jupyter-widgets/controls",
            "_view_module_version": "1.5.0",
            "_view_name": "HTMLView",
            "description": "",
            "description_tooltip": null,
            "layout": "IPY_MODEL_0f430bc88b644f2dbf17cf52ff308251",
            "placeholder": "​",
            "style": "IPY_MODEL_2112a73dbcdb40bdaa023277348a56dd",
            "value": "config.json: 100%"
          }
        },
        "c82ea78dc9734d1cb494601c99e91827": {
          "model_module": "@jupyter-widgets/controls",
          "model_name": "FloatProgressModel",
          "model_module_version": "1.5.0",
          "state": {
            "_dom_classes": [],
            "_model_module": "@jupyter-widgets/controls",
            "_model_module_version": "1.5.0",
            "_model_name": "FloatProgressModel",
            "_view_count": null,
            "_view_module": "@jupyter-widgets/controls",
            "_view_module_version": "1.5.0",
            "_view_name": "ProgressView",
            "bar_style": "success",
            "description": "",
            "description_tooltip": null,
            "layout": "IPY_MODEL_f004611578ad47078c38aee069e41985",
            "max": 1469,
            "min": 0,
            "orientation": "horizontal",
            "style": "IPY_MODEL_cf2e3e7b37f1459692662519c9c3bd3f",
            "value": 1469
          }
        },
        "b9350b6ff68944c4a9408d22b0f5aeba": {
          "model_module": "@jupyter-widgets/controls",
          "model_name": "HTMLModel",
          "model_module_version": "1.5.0",
          "state": {
            "_dom_classes": [],
            "_model_module": "@jupyter-widgets/controls",
            "_model_module_version": "1.5.0",
            "_model_name": "HTMLModel",
            "_view_count": null,
            "_view_module": "@jupyter-widgets/controls",
            "_view_module_version": "1.5.0",
            "_view_name": "HTMLView",
            "description": "",
            "description_tooltip": null,
            "layout": "IPY_MODEL_eb9bc322ccb149f0bb49dd5abefc6e5d",
            "placeholder": "​",
            "style": "IPY_MODEL_fc8e06f8996c49cd8d26efee38dba7d9",
            "value": " 1.47k/1.47k [00:00&lt;00:00, 89.2kB/s]"
          }
        },
        "0df1867be02049f0b5d9c09ce7f17815": {
          "model_module": "@jupyter-widgets/base",
          "model_name": "LayoutModel",
          "model_module_version": "1.2.0",
          "state": {
            "_model_module": "@jupyter-widgets/base",
            "_model_module_version": "1.2.0",
            "_model_name": "LayoutModel",
            "_view_count": null,
            "_view_module": "@jupyter-widgets/base",
            "_view_module_version": "1.2.0",
            "_view_name": "LayoutView",
            "align_content": null,
            "align_items": null,
            "align_self": null,
            "border": null,
            "bottom": null,
            "display": null,
            "flex": null,
            "flex_flow": null,
            "grid_area": null,
            "grid_auto_columns": null,
            "grid_auto_flow": null,
            "grid_auto_rows": null,
            "grid_column": null,
            "grid_gap": null,
            "grid_row": null,
            "grid_template_areas": null,
            "grid_template_columns": null,
            "grid_template_rows": null,
            "height": null,
            "justify_content": null,
            "justify_items": null,
            "left": null,
            "margin": null,
            "max_height": null,
            "max_width": null,
            "min_height": null,
            "min_width": null,
            "object_fit": null,
            "object_position": null,
            "order": null,
            "overflow": null,
            "overflow_x": null,
            "overflow_y": null,
            "padding": null,
            "right": null,
            "top": null,
            "visibility": null,
            "width": null
          }
        },
        "0f430bc88b644f2dbf17cf52ff308251": {
          "model_module": "@jupyter-widgets/base",
          "model_name": "LayoutModel",
          "model_module_version": "1.2.0",
          "state": {
            "_model_module": "@jupyter-widgets/base",
            "_model_module_version": "1.2.0",
            "_model_name": "LayoutModel",
            "_view_count": null,
            "_view_module": "@jupyter-widgets/base",
            "_view_module_version": "1.2.0",
            "_view_name": "LayoutView",
            "align_content": null,
            "align_items": null,
            "align_self": null,
            "border": null,
            "bottom": null,
            "display": null,
            "flex": null,
            "flex_flow": null,
            "grid_area": null,
            "grid_auto_columns": null,
            "grid_auto_flow": null,
            "grid_auto_rows": null,
            "grid_column": null,
            "grid_gap": null,
            "grid_row": null,
            "grid_template_areas": null,
            "grid_template_columns": null,
            "grid_template_rows": null,
            "height": null,
            "justify_content": null,
            "justify_items": null,
            "left": null,
            "margin": null,
            "max_height": null,
            "max_width": null,
            "min_height": null,
            "min_width": null,
            "object_fit": null,
            "object_position": null,
            "order": null,
            "overflow": null,
            "overflow_x": null,
            "overflow_y": null,
            "padding": null,
            "right": null,
            "top": null,
            "visibility": null,
            "width": null
          }
        },
        "2112a73dbcdb40bdaa023277348a56dd": {
          "model_module": "@jupyter-widgets/controls",
          "model_name": "DescriptionStyleModel",
          "model_module_version": "1.5.0",
          "state": {
            "_model_module": "@jupyter-widgets/controls",
            "_model_module_version": "1.5.0",
            "_model_name": "DescriptionStyleModel",
            "_view_count": null,
            "_view_module": "@jupyter-widgets/base",
            "_view_module_version": "1.2.0",
            "_view_name": "StyleView",
            "description_width": ""
          }
        },
        "f004611578ad47078c38aee069e41985": {
          "model_module": "@jupyter-widgets/base",
          "model_name": "LayoutModel",
          "model_module_version": "1.2.0",
          "state": {
            "_model_module": "@jupyter-widgets/base",
            "_model_module_version": "1.2.0",
            "_model_name": "LayoutModel",
            "_view_count": null,
            "_view_module": "@jupyter-widgets/base",
            "_view_module_version": "1.2.0",
            "_view_name": "LayoutView",
            "align_content": null,
            "align_items": null,
            "align_self": null,
            "border": null,
            "bottom": null,
            "display": null,
            "flex": null,
            "flex_flow": null,
            "grid_area": null,
            "grid_auto_columns": null,
            "grid_auto_flow": null,
            "grid_auto_rows": null,
            "grid_column": null,
            "grid_gap": null,
            "grid_row": null,
            "grid_template_areas": null,
            "grid_template_columns": null,
            "grid_template_rows": null,
            "height": null,
            "justify_content": null,
            "justify_items": null,
            "left": null,
            "margin": null,
            "max_height": null,
            "max_width": null,
            "min_height": null,
            "min_width": null,
            "object_fit": null,
            "object_position": null,
            "order": null,
            "overflow": null,
            "overflow_x": null,
            "overflow_y": null,
            "padding": null,
            "right": null,
            "top": null,
            "visibility": null,
            "width": null
          }
        },
        "cf2e3e7b37f1459692662519c9c3bd3f": {
          "model_module": "@jupyter-widgets/controls",
          "model_name": "ProgressStyleModel",
          "model_module_version": "1.5.0",
          "state": {
            "_model_module": "@jupyter-widgets/controls",
            "_model_module_version": "1.5.0",
            "_model_name": "ProgressStyleModel",
            "_view_count": null,
            "_view_module": "@jupyter-widgets/base",
            "_view_module_version": "1.2.0",
            "_view_name": "StyleView",
            "bar_color": null,
            "description_width": ""
          }
        },
        "eb9bc322ccb149f0bb49dd5abefc6e5d": {
          "model_module": "@jupyter-widgets/base",
          "model_name": "LayoutModel",
          "model_module_version": "1.2.0",
          "state": {
            "_model_module": "@jupyter-widgets/base",
            "_model_module_version": "1.2.0",
            "_model_name": "LayoutModel",
            "_view_count": null,
            "_view_module": "@jupyter-widgets/base",
            "_view_module_version": "1.2.0",
            "_view_name": "LayoutView",
            "align_content": null,
            "align_items": null,
            "align_self": null,
            "border": null,
            "bottom": null,
            "display": null,
            "flex": null,
            "flex_flow": null,
            "grid_area": null,
            "grid_auto_columns": null,
            "grid_auto_flow": null,
            "grid_auto_rows": null,
            "grid_column": null,
            "grid_gap": null,
            "grid_row": null,
            "grid_template_areas": null,
            "grid_template_columns": null,
            "grid_template_rows": null,
            "height": null,
            "justify_content": null,
            "justify_items": null,
            "left": null,
            "margin": null,
            "max_height": null,
            "max_width": null,
            "min_height": null,
            "min_width": null,
            "object_fit": null,
            "object_position": null,
            "order": null,
            "overflow": null,
            "overflow_x": null,
            "overflow_y": null,
            "padding": null,
            "right": null,
            "top": null,
            "visibility": null,
            "width": null
          }
        },
        "fc8e06f8996c49cd8d26efee38dba7d9": {
          "model_module": "@jupyter-widgets/controls",
          "model_name": "DescriptionStyleModel",
          "model_module_version": "1.5.0",
          "state": {
            "_model_module": "@jupyter-widgets/controls",
            "_model_module_version": "1.5.0",
            "_model_name": "DescriptionStyleModel",
            "_view_count": null,
            "_view_module": "@jupyter-widgets/base",
            "_view_module_version": "1.2.0",
            "_view_name": "StyleView",
            "description_width": ""
          }
        },
        "36b66b6a5aa2429a8d10d57450172872": {
          "model_module": "@jupyter-widgets/controls",
          "model_name": "HBoxModel",
          "model_module_version": "1.5.0",
          "state": {
            "_dom_classes": [],
            "_model_module": "@jupyter-widgets/controls",
            "_model_module_version": "1.5.0",
            "_model_name": "HBoxModel",
            "_view_count": null,
            "_view_module": "@jupyter-widgets/controls",
            "_view_module_version": "1.5.0",
            "_view_name": "HBoxView",
            "box_style": "",
            "children": [
              "IPY_MODEL_501884a1f3924eb1b9b278cfbce2d16f",
              "IPY_MODEL_5b4e7b4034a1474aab9b621b35f2b08b",
              "IPY_MODEL_3627b601f7914fa397c4b58c1aa7fe47"
            ],
            "layout": "IPY_MODEL_01d8dfeb236c4bb3bc0d974ea22664f8"
          }
        },
        "501884a1f3924eb1b9b278cfbce2d16f": {
          "model_module": "@jupyter-widgets/controls",
          "model_name": "HTMLModel",
          "model_module_version": "1.5.0",
          "state": {
            "_dom_classes": [],
            "_model_module": "@jupyter-widgets/controls",
            "_model_module_version": "1.5.0",
            "_model_name": "HTMLModel",
            "_view_count": null,
            "_view_module": "@jupyter-widgets/controls",
            "_view_module_version": "1.5.0",
            "_view_name": "HTMLView",
            "description": "",
            "description_tooltip": null,
            "layout": "IPY_MODEL_eb4c30948e4a4e899789ebee3e2414a9",
            "placeholder": "​",
            "style": "IPY_MODEL_985ba4e88f9049f09fbd52f2c5be784a",
            "value": "model.safetensors: 100%"
          }
        },
        "5b4e7b4034a1474aab9b621b35f2b08b": {
          "model_module": "@jupyter-widgets/controls",
          "model_name": "FloatProgressModel",
          "model_module_version": "1.5.0",
          "state": {
            "_dom_classes": [],
            "_model_module": "@jupyter-widgets/controls",
            "_model_module_version": "1.5.0",
            "_model_name": "FloatProgressModel",
            "_view_count": null,
            "_view_module": "@jupyter-widgets/controls",
            "_view_module_version": "1.5.0",
            "_view_name": "ProgressView",
            "bar_style": "success",
            "description": "",
            "description_tooltip": null,
            "layout": "IPY_MODEL_e07b12947053439cb65d4932347bc8c2",
            "max": 115434268,
            "min": 0,
            "orientation": "horizontal",
            "style": "IPY_MODEL_3dd5bd6033c54665a2bf6ef3b6a71db7",
            "value": 115434268
          }
        },
        "3627b601f7914fa397c4b58c1aa7fe47": {
          "model_module": "@jupyter-widgets/controls",
          "model_name": "HTMLModel",
          "model_module_version": "1.5.0",
          "state": {
            "_dom_classes": [],
            "_model_module": "@jupyter-widgets/controls",
            "_model_module_version": "1.5.0",
            "_model_name": "HTMLModel",
            "_view_count": null,
            "_view_module": "@jupyter-widgets/controls",
            "_view_module_version": "1.5.0",
            "_view_name": "HTMLView",
            "description": "",
            "description_tooltip": null,
            "layout": "IPY_MODEL_6e3a4da6040245eab1432f7f38bb894c",
            "placeholder": "​",
            "style": "IPY_MODEL_11acc4a9fdc94185834432f8e2d845f5",
            "value": " 115M/115M [00:00&lt;00:00, 208MB/s]"
          }
        },
        "01d8dfeb236c4bb3bc0d974ea22664f8": {
          "model_module": "@jupyter-widgets/base",
          "model_name": "LayoutModel",
          "model_module_version": "1.2.0",
          "state": {
            "_model_module": "@jupyter-widgets/base",
            "_model_module_version": "1.2.0",
            "_model_name": "LayoutModel",
            "_view_count": null,
            "_view_module": "@jupyter-widgets/base",
            "_view_module_version": "1.2.0",
            "_view_name": "LayoutView",
            "align_content": null,
            "align_items": null,
            "align_self": null,
            "border": null,
            "bottom": null,
            "display": null,
            "flex": null,
            "flex_flow": null,
            "grid_area": null,
            "grid_auto_columns": null,
            "grid_auto_flow": null,
            "grid_auto_rows": null,
            "grid_column": null,
            "grid_gap": null,
            "grid_row": null,
            "grid_template_areas": null,
            "grid_template_columns": null,
            "grid_template_rows": null,
            "height": null,
            "justify_content": null,
            "justify_items": null,
            "left": null,
            "margin": null,
            "max_height": null,
            "max_width": null,
            "min_height": null,
            "min_width": null,
            "object_fit": null,
            "object_position": null,
            "order": null,
            "overflow": null,
            "overflow_x": null,
            "overflow_y": null,
            "padding": null,
            "right": null,
            "top": null,
            "visibility": null,
            "width": null
          }
        },
        "eb4c30948e4a4e899789ebee3e2414a9": {
          "model_module": "@jupyter-widgets/base",
          "model_name": "LayoutModel",
          "model_module_version": "1.2.0",
          "state": {
            "_model_module": "@jupyter-widgets/base",
            "_model_module_version": "1.2.0",
            "_model_name": "LayoutModel",
            "_view_count": null,
            "_view_module": "@jupyter-widgets/base",
            "_view_module_version": "1.2.0",
            "_view_name": "LayoutView",
            "align_content": null,
            "align_items": null,
            "align_self": null,
            "border": null,
            "bottom": null,
            "display": null,
            "flex": null,
            "flex_flow": null,
            "grid_area": null,
            "grid_auto_columns": null,
            "grid_auto_flow": null,
            "grid_auto_rows": null,
            "grid_column": null,
            "grid_gap": null,
            "grid_row": null,
            "grid_template_areas": null,
            "grid_template_columns": null,
            "grid_template_rows": null,
            "height": null,
            "justify_content": null,
            "justify_items": null,
            "left": null,
            "margin": null,
            "max_height": null,
            "max_width": null,
            "min_height": null,
            "min_width": null,
            "object_fit": null,
            "object_position": null,
            "order": null,
            "overflow": null,
            "overflow_x": null,
            "overflow_y": null,
            "padding": null,
            "right": null,
            "top": null,
            "visibility": null,
            "width": null
          }
        },
        "985ba4e88f9049f09fbd52f2c5be784a": {
          "model_module": "@jupyter-widgets/controls",
          "model_name": "DescriptionStyleModel",
          "model_module_version": "1.5.0",
          "state": {
            "_model_module": "@jupyter-widgets/controls",
            "_model_module_version": "1.5.0",
            "_model_name": "DescriptionStyleModel",
            "_view_count": null,
            "_view_module": "@jupyter-widgets/base",
            "_view_module_version": "1.2.0",
            "_view_name": "StyleView",
            "description_width": ""
          }
        },
        "e07b12947053439cb65d4932347bc8c2": {
          "model_module": "@jupyter-widgets/base",
          "model_name": "LayoutModel",
          "model_module_version": "1.2.0",
          "state": {
            "_model_module": "@jupyter-widgets/base",
            "_model_module_version": "1.2.0",
            "_model_name": "LayoutModel",
            "_view_count": null,
            "_view_module": "@jupyter-widgets/base",
            "_view_module_version": "1.2.0",
            "_view_name": "LayoutView",
            "align_content": null,
            "align_items": null,
            "align_self": null,
            "border": null,
            "bottom": null,
            "display": null,
            "flex": null,
            "flex_flow": null,
            "grid_area": null,
            "grid_auto_columns": null,
            "grid_auto_flow": null,
            "grid_auto_rows": null,
            "grid_column": null,
            "grid_gap": null,
            "grid_row": null,
            "grid_template_areas": null,
            "grid_template_columns": null,
            "grid_template_rows": null,
            "height": null,
            "justify_content": null,
            "justify_items": null,
            "left": null,
            "margin": null,
            "max_height": null,
            "max_width": null,
            "min_height": null,
            "min_width": null,
            "object_fit": null,
            "object_position": null,
            "order": null,
            "overflow": null,
            "overflow_x": null,
            "overflow_y": null,
            "padding": null,
            "right": null,
            "top": null,
            "visibility": null,
            "width": null
          }
        },
        "3dd5bd6033c54665a2bf6ef3b6a71db7": {
          "model_module": "@jupyter-widgets/controls",
          "model_name": "ProgressStyleModel",
          "model_module_version": "1.5.0",
          "state": {
            "_model_module": "@jupyter-widgets/controls",
            "_model_module_version": "1.5.0",
            "_model_name": "ProgressStyleModel",
            "_view_count": null,
            "_view_module": "@jupyter-widgets/base",
            "_view_module_version": "1.2.0",
            "_view_name": "StyleView",
            "bar_color": null,
            "description_width": ""
          }
        },
        "6e3a4da6040245eab1432f7f38bb894c": {
          "model_module": "@jupyter-widgets/base",
          "model_name": "LayoutModel",
          "model_module_version": "1.2.0",
          "state": {
            "_model_module": "@jupyter-widgets/base",
            "_model_module_version": "1.2.0",
            "_model_name": "LayoutModel",
            "_view_count": null,
            "_view_module": "@jupyter-widgets/base",
            "_view_module_version": "1.2.0",
            "_view_name": "LayoutView",
            "align_content": null,
            "align_items": null,
            "align_self": null,
            "border": null,
            "bottom": null,
            "display": null,
            "flex": null,
            "flex_flow": null,
            "grid_area": null,
            "grid_auto_columns": null,
            "grid_auto_flow": null,
            "grid_auto_rows": null,
            "grid_column": null,
            "grid_gap": null,
            "grid_row": null,
            "grid_template_areas": null,
            "grid_template_columns": null,
            "grid_template_rows": null,
            "height": null,
            "justify_content": null,
            "justify_items": null,
            "left": null,
            "margin": null,
            "max_height": null,
            "max_width": null,
            "min_height": null,
            "min_width": null,
            "object_fit": null,
            "object_position": null,
            "order": null,
            "overflow": null,
            "overflow_x": null,
            "overflow_y": null,
            "padding": null,
            "right": null,
            "top": null,
            "visibility": null,
            "width": null
          }
        },
        "11acc4a9fdc94185834432f8e2d845f5": {
          "model_module": "@jupyter-widgets/controls",
          "model_name": "DescriptionStyleModel",
          "model_module_version": "1.5.0",
          "state": {
            "_model_module": "@jupyter-widgets/controls",
            "_model_module_version": "1.5.0",
            "_model_name": "DescriptionStyleModel",
            "_view_count": null,
            "_view_module": "@jupyter-widgets/base",
            "_view_module_version": "1.2.0",
            "_view_name": "StyleView",
            "description_width": ""
          }
        },
        "5e3a53f57f014726876bc417d6c05cba": {
          "model_module": "@jupyter-widgets/controls",
          "model_name": "HBoxModel",
          "model_module_version": "1.5.0",
          "state": {
            "_dom_classes": [],
            "_model_module": "@jupyter-widgets/controls",
            "_model_module_version": "1.5.0",
            "_model_name": "HBoxModel",
            "_view_count": null,
            "_view_module": "@jupyter-widgets/controls",
            "_view_module_version": "1.5.0",
            "_view_name": "HBoxView",
            "box_style": "",
            "children": [
              "IPY_MODEL_32227b0b7d7044eca29089c725d100bd",
              "IPY_MODEL_5f48423da22e42398a0ab7442453e951",
              "IPY_MODEL_ebdfe79a06154f59a0ac600b31b8039e"
            ],
            "layout": "IPY_MODEL_e733d62efdd747aa8d85e1129e78ee89"
          }
        },
        "32227b0b7d7044eca29089c725d100bd": {
          "model_module": "@jupyter-widgets/controls",
          "model_name": "HTMLModel",
          "model_module_version": "1.5.0",
          "state": {
            "_dom_classes": [],
            "_model_module": "@jupyter-widgets/controls",
            "_model_module_version": "1.5.0",
            "_model_name": "HTMLModel",
            "_view_count": null,
            "_view_module": "@jupyter-widgets/controls",
            "_view_module_version": "1.5.0",
            "_view_name": "HTMLView",
            "description": "",
            "description_tooltip": null,
            "layout": "IPY_MODEL_54dd1b4449334da9a5c219ee5bf4fda4",
            "placeholder": "​",
            "style": "IPY_MODEL_b7ff7f742bd046058b77574003e9c575",
            "value": "model.safetensors: 100%"
          }
        },
        "5f48423da22e42398a0ab7442453e951": {
          "model_module": "@jupyter-widgets/controls",
          "model_name": "FloatProgressModel",
          "model_module_version": "1.5.0",
          "state": {
            "_dom_classes": [],
            "_model_module": "@jupyter-widgets/controls",
            "_model_module_version": "1.5.0",
            "_model_name": "FloatProgressModel",
            "_view_count": null,
            "_view_module": "@jupyter-widgets/controls",
            "_view_module_version": "1.5.0",
            "_view_name": "ProgressView",
            "bar_style": "success",
            "description": "",
            "description_tooltip": null,
            "layout": "IPY_MODEL_75ef2efe03f344769b93efb3e17591c4",
            "max": 46807446,
            "min": 0,
            "orientation": "horizontal",
            "style": "IPY_MODEL_c18f3bf847d04c229ae4baf33e9cde5b",
            "value": 46807446
          }
        },
        "ebdfe79a06154f59a0ac600b31b8039e": {
          "model_module": "@jupyter-widgets/controls",
          "model_name": "HTMLModel",
          "model_module_version": "1.5.0",
          "state": {
            "_dom_classes": [],
            "_model_module": "@jupyter-widgets/controls",
            "_model_module_version": "1.5.0",
            "_model_name": "HTMLModel",
            "_view_count": null,
            "_view_module": "@jupyter-widgets/controls",
            "_view_module_version": "1.5.0",
            "_view_name": "HTMLView",
            "description": "",
            "description_tooltip": null,
            "layout": "IPY_MODEL_eee72da5510041bca9720504eadf31cc",
            "placeholder": "​",
            "style": "IPY_MODEL_275ba032fa7e465db4cee3b50ea91bfb",
            "value": " 46.8M/46.8M [00:00&lt;00:00, 191MB/s]"
          }
        },
        "e733d62efdd747aa8d85e1129e78ee89": {
          "model_module": "@jupyter-widgets/base",
          "model_name": "LayoutModel",
          "model_module_version": "1.2.0",
          "state": {
            "_model_module": "@jupyter-widgets/base",
            "_model_module_version": "1.2.0",
            "_model_name": "LayoutModel",
            "_view_count": null,
            "_view_module": "@jupyter-widgets/base",
            "_view_module_version": "1.2.0",
            "_view_name": "LayoutView",
            "align_content": null,
            "align_items": null,
            "align_self": null,
            "border": null,
            "bottom": null,
            "display": null,
            "flex": null,
            "flex_flow": null,
            "grid_area": null,
            "grid_auto_columns": null,
            "grid_auto_flow": null,
            "grid_auto_rows": null,
            "grid_column": null,
            "grid_gap": null,
            "grid_row": null,
            "grid_template_areas": null,
            "grid_template_columns": null,
            "grid_template_rows": null,
            "height": null,
            "justify_content": null,
            "justify_items": null,
            "left": null,
            "margin": null,
            "max_height": null,
            "max_width": null,
            "min_height": null,
            "min_width": null,
            "object_fit": null,
            "object_position": null,
            "order": null,
            "overflow": null,
            "overflow_x": null,
            "overflow_y": null,
            "padding": null,
            "right": null,
            "top": null,
            "visibility": null,
            "width": null
          }
        },
        "54dd1b4449334da9a5c219ee5bf4fda4": {
          "model_module": "@jupyter-widgets/base",
          "model_name": "LayoutModel",
          "model_module_version": "1.2.0",
          "state": {
            "_model_module": "@jupyter-widgets/base",
            "_model_module_version": "1.2.0",
            "_model_name": "LayoutModel",
            "_view_count": null,
            "_view_module": "@jupyter-widgets/base",
            "_view_module_version": "1.2.0",
            "_view_name": "LayoutView",
            "align_content": null,
            "align_items": null,
            "align_self": null,
            "border": null,
            "bottom": null,
            "display": null,
            "flex": null,
            "flex_flow": null,
            "grid_area": null,
            "grid_auto_columns": null,
            "grid_auto_flow": null,
            "grid_auto_rows": null,
            "grid_column": null,
            "grid_gap": null,
            "grid_row": null,
            "grid_template_areas": null,
            "grid_template_columns": null,
            "grid_template_rows": null,
            "height": null,
            "justify_content": null,
            "justify_items": null,
            "left": null,
            "margin": null,
            "max_height": null,
            "max_width": null,
            "min_height": null,
            "min_width": null,
            "object_fit": null,
            "object_position": null,
            "order": null,
            "overflow": null,
            "overflow_x": null,
            "overflow_y": null,
            "padding": null,
            "right": null,
            "top": null,
            "visibility": null,
            "width": null
          }
        },
        "b7ff7f742bd046058b77574003e9c575": {
          "model_module": "@jupyter-widgets/controls",
          "model_name": "DescriptionStyleModel",
          "model_module_version": "1.5.0",
          "state": {
            "_model_module": "@jupyter-widgets/controls",
            "_model_module_version": "1.5.0",
            "_model_name": "DescriptionStyleModel",
            "_view_count": null,
            "_view_module": "@jupyter-widgets/base",
            "_view_module_version": "1.2.0",
            "_view_name": "StyleView",
            "description_width": ""
          }
        },
        "75ef2efe03f344769b93efb3e17591c4": {
          "model_module": "@jupyter-widgets/base",
          "model_name": "LayoutModel",
          "model_module_version": "1.2.0",
          "state": {
            "_model_module": "@jupyter-widgets/base",
            "_model_module_version": "1.2.0",
            "_model_name": "LayoutModel",
            "_view_count": null,
            "_view_module": "@jupyter-widgets/base",
            "_view_module_version": "1.2.0",
            "_view_name": "LayoutView",
            "align_content": null,
            "align_items": null,
            "align_self": null,
            "border": null,
            "bottom": null,
            "display": null,
            "flex": null,
            "flex_flow": null,
            "grid_area": null,
            "grid_auto_columns": null,
            "grid_auto_flow": null,
            "grid_auto_rows": null,
            "grid_column": null,
            "grid_gap": null,
            "grid_row": null,
            "grid_template_areas": null,
            "grid_template_columns": null,
            "grid_template_rows": null,
            "height": null,
            "justify_content": null,
            "justify_items": null,
            "left": null,
            "margin": null,
            "max_height": null,
            "max_width": null,
            "min_height": null,
            "min_width": null,
            "object_fit": null,
            "object_position": null,
            "order": null,
            "overflow": null,
            "overflow_x": null,
            "overflow_y": null,
            "padding": null,
            "right": null,
            "top": null,
            "visibility": null,
            "width": null
          }
        },
        "c18f3bf847d04c229ae4baf33e9cde5b": {
          "model_module": "@jupyter-widgets/controls",
          "model_name": "ProgressStyleModel",
          "model_module_version": "1.5.0",
          "state": {
            "_model_module": "@jupyter-widgets/controls",
            "_model_module_version": "1.5.0",
            "_model_name": "ProgressStyleModel",
            "_view_count": null,
            "_view_module": "@jupyter-widgets/base",
            "_view_module_version": "1.2.0",
            "_view_name": "StyleView",
            "bar_color": null,
            "description_width": ""
          }
        },
        "eee72da5510041bca9720504eadf31cc": {
          "model_module": "@jupyter-widgets/base",
          "model_name": "LayoutModel",
          "model_module_version": "1.2.0",
          "state": {
            "_model_module": "@jupyter-widgets/base",
            "_model_module_version": "1.2.0",
            "_model_name": "LayoutModel",
            "_view_count": null,
            "_view_module": "@jupyter-widgets/base",
            "_view_module_version": "1.2.0",
            "_view_name": "LayoutView",
            "align_content": null,
            "align_items": null,
            "align_self": null,
            "border": null,
            "bottom": null,
            "display": null,
            "flex": null,
            "flex_flow": null,
            "grid_area": null,
            "grid_auto_columns": null,
            "grid_auto_flow": null,
            "grid_auto_rows": null,
            "grid_column": null,
            "grid_gap": null,
            "grid_row": null,
            "grid_template_areas": null,
            "grid_template_columns": null,
            "grid_template_rows": null,
            "height": null,
            "justify_content": null,
            "justify_items": null,
            "left": null,
            "margin": null,
            "max_height": null,
            "max_width": null,
            "min_height": null,
            "min_width": null,
            "object_fit": null,
            "object_position": null,
            "order": null,
            "overflow": null,
            "overflow_x": null,
            "overflow_y": null,
            "padding": null,
            "right": null,
            "top": null,
            "visibility": null,
            "width": null
          }
        },
        "275ba032fa7e465db4cee3b50ea91bfb": {
          "model_module": "@jupyter-widgets/controls",
          "model_name": "DescriptionStyleModel",
          "model_module_version": "1.5.0",
          "state": {
            "_model_module": "@jupyter-widgets/controls",
            "_model_module_version": "1.5.0",
            "_model_name": "DescriptionStyleModel",
            "_view_count": null,
            "_view_module": "@jupyter-widgets/base",
            "_view_module_version": "1.2.0",
            "_view_name": "StyleView",
            "description_width": ""
          }
        }
      }
    }
  },
  "cells": [
    {
      "cell_type": "code",
      "execution_count": 2,
      "metadata": {
        "colab": {
          "base_uri": "https://localhost:8080/"
        },
        "id": "U6Hmz2PBWr5f",
        "outputId": "8f57d1b4-962a-49fd-91d7-19dfeef93d5c"
      },
      "outputs": [
        {
          "output_type": "stream",
          "name": "stdout",
          "text": [
            "Reading package lists... Done\n",
            "Building dependency tree... Done\n",
            "Reading state information... Done\n",
            "tesseract-ocr is already the newest version (4.1.1-2.1build1).\n",
            "0 upgraded, 0 newly installed, 0 to remove and 45 not upgraded.\n",
            "Reading package lists... Done\n",
            "Building dependency tree... Done\n",
            "Reading state information... Done\n",
            "libtesseract-dev is already the newest version (4.1.1-2.1build1).\n",
            "0 upgraded, 0 newly installed, 0 to remove and 45 not upgraded.\n",
            "Reading package lists... Done\n",
            "Building dependency tree... Done\n",
            "Reading state information... Done\n",
            "poppler-utils is already the newest version (22.02.0-2ubuntu0.4).\n",
            "0 upgraded, 0 newly installed, 0 to remove and 45 not upgraded.\n"
          ]
        }
      ],
      "source": [
        "!sudo apt install tesseract-ocr -y\n",
        "!sudo apt install libtesseract-dev -y\n",
        "!sudo apt install poppler-utils -y"
      ]
    },
    {
      "cell_type": "code",
      "source": [
        "!pip install langchain unstructured[all-docs] pydantic lxml openai faiss-cpu tiktoken opencv-python"
      ],
      "metadata": {
        "id": "ovW6LGCxdcqc",
        "colab": {
          "base_uri": "https://localhost:8080/",
          "height": 1000
        },
        "outputId": "304f0aaa-9b88-48a3-c7a2-88b6a1d9743b"
      },
      "execution_count": 3,
      "outputs": [
        {
          "output_type": "stream",
          "name": "stdout",
          "text": [
            "Collecting langchain\n",
            "  Downloading langchain-0.2.6-py3-none-any.whl (975 kB)\n",
            "\u001b[2K     \u001b[90m━━━━━━━━━━━━━━━━━━━━━━━━━━━━━━━━━━━━━━━━\u001b[0m \u001b[32m975.5/975.5 kB\u001b[0m \u001b[31m8.8 MB/s\u001b[0m eta \u001b[36m0:00:00\u001b[0m\n",
            "\u001b[?25hCollecting unstructured[all-docs]\n",
            "  Downloading unstructured-0.14.9-py3-none-any.whl (2.1 MB)\n",
            "\u001b[2K     \u001b[90m━━━━━━━━━━━━━━━━━━━━━━━━━━━━━━━━━━━━━━━━\u001b[0m \u001b[32m2.1/2.1 MB\u001b[0m \u001b[31m18.1 MB/s\u001b[0m eta \u001b[36m0:00:00\u001b[0m\n",
            "\u001b[?25hRequirement already satisfied: pydantic in /usr/local/lib/python3.10/dist-packages (2.8.0)\n",
            "Requirement already satisfied: lxml in /usr/local/lib/python3.10/dist-packages (4.9.4)\n",
            "Collecting openai\n",
            "  Downloading openai-1.35.10-py3-none-any.whl (328 kB)\n",
            "\u001b[2K     \u001b[90m━━━━━━━━━━━━━━━━━━━━━━━━━━━━━━━━━━━━━━━━\u001b[0m \u001b[32m328.3/328.3 kB\u001b[0m \u001b[31m16.7 MB/s\u001b[0m eta \u001b[36m0:00:00\u001b[0m\n",
            "\u001b[?25hCollecting faiss-cpu\n",
            "  Downloading faiss_cpu-1.8.0.post1-cp310-cp310-manylinux_2_17_x86_64.manylinux2014_x86_64.whl (27.0 MB)\n",
            "\u001b[2K     \u001b[90m━━━━━━━━━━━━━━━━━━━━━━━━━━━━━━━━━━━━━━━━\u001b[0m \u001b[32m27.0/27.0 MB\u001b[0m \u001b[31m21.4 MB/s\u001b[0m eta \u001b[36m0:00:00\u001b[0m\n",
            "\u001b[?25hCollecting tiktoken\n",
            "  Downloading tiktoken-0.7.0-cp310-cp310-manylinux_2_17_x86_64.manylinux2014_x86_64.whl (1.1 MB)\n",
            "\u001b[2K     \u001b[90m━━━━━━━━━━━━━━━━━━━━━━━━━━━━━━━━━━━━━━━━\u001b[0m \u001b[32m1.1/1.1 MB\u001b[0m \u001b[31m43.3 MB/s\u001b[0m eta \u001b[36m0:00:00\u001b[0m\n",
            "\u001b[?25hRequirement already satisfied: opencv-python in /usr/local/lib/python3.10/dist-packages (4.8.0.76)\n",
            "Requirement already satisfied: PyYAML>=5.3 in /usr/local/lib/python3.10/dist-packages (from langchain) (6.0.1)\n",
            "Requirement already satisfied: SQLAlchemy<3,>=1.4 in /usr/local/lib/python3.10/dist-packages (from langchain) (2.0.31)\n",
            "Requirement already satisfied: aiohttp<4.0.0,>=3.8.3 in /usr/local/lib/python3.10/dist-packages (from langchain) (3.9.5)\n",
            "Requirement already satisfied: async-timeout<5.0.0,>=4.0.0 in /usr/local/lib/python3.10/dist-packages (from langchain) (4.0.3)\n",
            "Collecting langchain-core<0.3.0,>=0.2.10 (from langchain)\n",
            "  Downloading langchain_core-0.2.11-py3-none-any.whl (337 kB)\n",
            "\u001b[2K     \u001b[90m━━━━━━━━━━━━━━━━━━━━━━━━━━━━━━━━━━━━━━━━\u001b[0m \u001b[32m337.4/337.4 kB\u001b[0m \u001b[31m28.9 MB/s\u001b[0m eta \u001b[36m0:00:00\u001b[0m\n",
            "\u001b[?25hCollecting langchain-text-splitters<0.3.0,>=0.2.0 (from langchain)\n",
            "  Downloading langchain_text_splitters-0.2.2-py3-none-any.whl (25 kB)\n",
            "Collecting langsmith<0.2.0,>=0.1.17 (from langchain)\n",
            "  Downloading langsmith-0.1.84-py3-none-any.whl (127 kB)\n",
            "\u001b[2K     \u001b[90m━━━━━━━━━━━━━━━━━━━━━━━━━━━━━━━━━━━━━━━━\u001b[0m \u001b[32m127.9/127.9 kB\u001b[0m \u001b[31m12.2 MB/s\u001b[0m eta \u001b[36m0:00:00\u001b[0m\n",
            "\u001b[?25hRequirement already satisfied: numpy<2,>=1 in /usr/local/lib/python3.10/dist-packages (from langchain) (1.25.2)\n",
            "Requirement already satisfied: requests<3,>=2 in /usr/local/lib/python3.10/dist-packages (from langchain) (2.31.0)\n",
            "Requirement already satisfied: tenacity!=8.4.0,<9.0.0,>=8.1.0 in /usr/local/lib/python3.10/dist-packages (from langchain) (8.4.2)\n",
            "Requirement already satisfied: chardet in /usr/local/lib/python3.10/dist-packages (from unstructured[all-docs]) (5.2.0)\n",
            "Collecting filetype (from unstructured[all-docs])\n",
            "  Downloading filetype-1.2.0-py2.py3-none-any.whl (19 kB)\n",
            "Collecting python-magic (from unstructured[all-docs])\n",
            "  Downloading python_magic-0.4.27-py2.py3-none-any.whl (13 kB)\n",
            "Requirement already satisfied: nltk in /usr/local/lib/python3.10/dist-packages (from unstructured[all-docs]) (3.8.1)\n",
            "Requirement already satisfied: tabulate in /usr/local/lib/python3.10/dist-packages (from unstructured[all-docs]) (0.9.0)\n",
            "Requirement already satisfied: beautifulsoup4 in /usr/local/lib/python3.10/dist-packages (from unstructured[all-docs]) (4.12.3)\n",
            "Collecting emoji (from unstructured[all-docs])\n",
            "  Downloading emoji-2.12.1-py3-none-any.whl (431 kB)\n",
            "\u001b[2K     \u001b[90m━━━━━━━━━━━━━━━━━━━━━━━━━━━━━━━━━━━━━━━━\u001b[0m \u001b[32m431.4/431.4 kB\u001b[0m \u001b[31m30.1 MB/s\u001b[0m eta \u001b[36m0:00:00\u001b[0m\n",
            "\u001b[?25hCollecting dataclasses-json (from unstructured[all-docs])\n",
            "  Downloading dataclasses_json-0.6.7-py3-none-any.whl (28 kB)\n",
            "Collecting python-iso639 (from unstructured[all-docs])\n",
            "  Downloading python_iso639-2024.4.27-py3-none-any.whl (274 kB)\n",
            "\u001b[2K     \u001b[90m━━━━━━━━━━━━━━━━━━━━━━━━━━━━━━━━━━━━━━━━\u001b[0m \u001b[32m274.7/274.7 kB\u001b[0m \u001b[31m28.7 MB/s\u001b[0m eta \u001b[36m0:00:00\u001b[0m\n",
            "\u001b[?25hCollecting langdetect (from unstructured[all-docs])\n",
            "  Downloading langdetect-1.0.9.tar.gz (981 kB)\n",
            "\u001b[2K     \u001b[90m━━━━━━━━━━━━━━━━━━━━━━━━━━━━━━━━━━━━━━━━\u001b[0m \u001b[32m981.5/981.5 kB\u001b[0m \u001b[31m54.6 MB/s\u001b[0m eta \u001b[36m0:00:00\u001b[0m\n",
            "\u001b[?25h  Preparing metadata (setup.py) ... \u001b[?25l\u001b[?25hdone\n",
            "Collecting rapidfuzz (from unstructured[all-docs])\n",
            "  Downloading rapidfuzz-3.9.4-cp310-cp310-manylinux_2_17_x86_64.manylinux2014_x86_64.whl (3.4 MB)\n",
            "\u001b[2K     \u001b[90m━━━━━━━━━━━━━━━━━━━━━━━━━━━━━━━━━━━━━━━━\u001b[0m \u001b[32m3.4/3.4 MB\u001b[0m \u001b[31m54.6 MB/s\u001b[0m eta \u001b[36m0:00:00\u001b[0m\n",
            "\u001b[?25hCollecting backoff (from unstructured[all-docs])\n",
            "  Downloading backoff-2.2.1-py3-none-any.whl (15 kB)\n",
            "Requirement already satisfied: typing-extensions in /usr/local/lib/python3.10/dist-packages (from unstructured[all-docs]) (4.12.2)\n",
            "Collecting unstructured-client (from unstructured[all-docs])\n",
            "  Downloading unstructured_client-0.23.9-py3-none-any.whl (40 kB)\n",
            "\u001b[2K     \u001b[90m━━━━━━━━━━━━━━━━━━━━━━━━━━━━━━━━━━━━━━━━\u001b[0m \u001b[32m41.0/41.0 kB\u001b[0m \u001b[31m4.9 MB/s\u001b[0m eta \u001b[36m0:00:00\u001b[0m\n",
            "\u001b[?25hRequirement already satisfied: wrapt in /usr/local/lib/python3.10/dist-packages (from unstructured[all-docs]) (1.14.1)\n",
            "Requirement already satisfied: tqdm in /usr/local/lib/python3.10/dist-packages (from unstructured[all-docs]) (4.66.4)\n",
            "Requirement already satisfied: openpyxl in /usr/local/lib/python3.10/dist-packages (from unstructured[all-docs]) (3.1.5)\n",
            "Collecting pillow-heif (from unstructured[all-docs])\n",
            "  Downloading pillow_heif-0.17.0-cp310-cp310-manylinux_2_17_x86_64.manylinux2014_x86_64.whl (7.5 MB)\n",
            "\u001b[2K     \u001b[90m━━━━━━━━━━━━━━━━━━━━━━━━━━━━━━━━━━━━━━━━\u001b[0m \u001b[32m7.5/7.5 MB\u001b[0m \u001b[31m58.1 MB/s\u001b[0m eta \u001b[36m0:00:00\u001b[0m\n",
            "\u001b[?25hCollecting pdf2image (from unstructured[all-docs])\n",
            "  Downloading pdf2image-1.17.0-py3-none-any.whl (11 kB)\n",
            "Collecting pikepdf (from unstructured[all-docs])\n",
            "  Downloading pikepdf-9.0.0-cp310-cp310-manylinux_2_17_x86_64.manylinux2014_x86_64.whl (2.4 MB)\n",
            "\u001b[2K     \u001b[90m━━━━━━━━━━━━━━━━━━━━━━━━━━━━━━━━━━━━━━━━\u001b[0m \u001b[32m2.4/2.4 MB\u001b[0m \u001b[31m59.4 MB/s\u001b[0m eta \u001b[36m0:00:00\u001b[0m\n",
            "\u001b[?25hRequirement already satisfied: pandas in /usr/local/lib/python3.10/dist-packages (from unstructured[all-docs]) (2.0.3)\n",
            "Collecting google-cloud-vision (from unstructured[all-docs])\n",
            "  Downloading google_cloud_vision-3.7.2-py2.py3-none-any.whl (459 kB)\n",
            "\u001b[2K     \u001b[90m━━━━━━━━━━━━━━━━━━━━━━━━━━━━━━━━━━━━━━━━\u001b[0m \u001b[32m459.6/459.6 kB\u001b[0m \u001b[31m39.6 MB/s\u001b[0m eta \u001b[36m0:00:00\u001b[0m\n",
            "\u001b[?25hRequirement already satisfied: xlrd in /usr/local/lib/python3.10/dist-packages (from unstructured[all-docs]) (2.0.1)\n",
            "Collecting unstructured.pytesseract>=0.3.12 (from unstructured[all-docs])\n",
            "  Downloading unstructured.pytesseract-0.3.12-py3-none-any.whl (14 kB)\n",
            "Collecting pypdf (from unstructured[all-docs])\n",
            "  Downloading pypdf-4.2.0-py3-none-any.whl (290 kB)\n",
            "\u001b[2K     \u001b[90m━━━━━━━━━━━━━━━━━━━━━━━━━━━━━━━━━━━━━━━━\u001b[0m \u001b[32m290.4/290.4 kB\u001b[0m \u001b[31m26.9 MB/s\u001b[0m eta \u001b[36m0:00:00\u001b[0m\n",
            "\u001b[?25hRequirement already satisfied: markdown in /usr/local/lib/python3.10/dist-packages (from unstructured[all-docs]) (3.6)\n",
            "Collecting unstructured-inference==0.7.36 (from unstructured[all-docs])\n",
            "  Downloading unstructured_inference-0.7.36-py3-none-any.whl (56 kB)\n",
            "\u001b[2K     \u001b[90m━━━━━━━━━━━━━━━━━━━━━━━━━━━━━━━━━━━━━━━━\u001b[0m \u001b[32m56.4/56.4 kB\u001b[0m \u001b[31m7.1 MB/s\u001b[0m eta \u001b[36m0:00:00\u001b[0m\n",
            "\u001b[?25hCollecting pypandoc (from unstructured[all-docs])\n",
            "  Downloading pypandoc-1.13-py3-none-any.whl (21 kB)\n",
            "Collecting effdet (from unstructured[all-docs])\n",
            "  Downloading effdet-0.4.1-py3-none-any.whl (112 kB)\n",
            "\u001b[2K     \u001b[90m━━━━━━━━━━━━━━━━━━━━━━━━━━━━━━━━━━━━━━━━\u001b[0m \u001b[32m112.5/112.5 kB\u001b[0m \u001b[31m13.8 MB/s\u001b[0m eta \u001b[36m0:00:00\u001b[0m\n",
            "\u001b[?25hCollecting python-docx>=1.1.2 (from unstructured[all-docs])\n",
            "  Downloading python_docx-1.1.2-py3-none-any.whl (244 kB)\n",
            "\u001b[2K     \u001b[90m━━━━━━━━━━━━━━━━━━━━━━━━━━━━━━━━━━━━━━━━\u001b[0m \u001b[32m244.3/244.3 kB\u001b[0m \u001b[31m24.6 MB/s\u001b[0m eta \u001b[36m0:00:00\u001b[0m\n",
            "\u001b[?25hRequirement already satisfied: networkx in /usr/local/lib/python3.10/dist-packages (from unstructured[all-docs]) (3.3)\n",
            "Collecting pytesseract (from unstructured[all-docs])\n",
            "  Downloading pytesseract-0.3.10-py3-none-any.whl (14 kB)\n",
            "Collecting python-oxmsg (from unstructured[all-docs])\n",
            "  Downloading python_oxmsg-0.0.1-py3-none-any.whl (31 kB)\n",
            "Collecting python-pptx<=0.6.23 (from unstructured[all-docs])\n",
            "  Downloading python_pptx-0.6.23-py3-none-any.whl (471 kB)\n",
            "\u001b[2K     \u001b[90m━━━━━━━━━━━━━━━━━━━━━━━━━━━━━━━━━━━━━━━━\u001b[0m \u001b[32m471.6/471.6 kB\u001b[0m \u001b[31m35.9 MB/s\u001b[0m eta \u001b[36m0:00:00\u001b[0m\n",
            "\u001b[?25hCollecting pdfminer.six (from unstructured[all-docs])\n",
            "  Downloading pdfminer.six-20240706-py3-none-any.whl (5.6 MB)\n",
            "\u001b[2K     \u001b[90m━━━━━━━━━━━━━━━━━━━━━━━━━━━━━━━━━━━━━━━━\u001b[0m \u001b[32m5.6/5.6 MB\u001b[0m \u001b[31m58.6 MB/s\u001b[0m eta \u001b[36m0:00:00\u001b[0m\n",
            "\u001b[?25hCollecting onnx (from unstructured[all-docs])\n",
            "  Downloading onnx-1.16.1-cp310-cp310-manylinux_2_17_x86_64.manylinux2014_x86_64.whl (15.9 MB)\n",
            "\u001b[2K     \u001b[90m━━━━━━━━━━━━━━━━━━━━━━━━━━━━━━━━━━━━━━━━\u001b[0m \u001b[32m15.9/15.9 MB\u001b[0m \u001b[31m35.4 MB/s\u001b[0m eta \u001b[36m0:00:00\u001b[0m\n",
            "\u001b[?25hCollecting layoutparser (from unstructured-inference==0.7.36->unstructured[all-docs])\n",
            "  Downloading layoutparser-0.3.4-py3-none-any.whl (19.2 MB)\n",
            "\u001b[2K     \u001b[90m━━━━━━━━━━━━━━━━━━━━━━━━━━━━━━━━━━━━━━━━\u001b[0m \u001b[32m19.2/19.2 MB\u001b[0m \u001b[31m12.7 MB/s\u001b[0m eta \u001b[36m0:00:00\u001b[0m\n",
            "\u001b[?25hCollecting python-multipart (from unstructured-inference==0.7.36->unstructured[all-docs])\n",
            "  Downloading python_multipart-0.0.9-py3-none-any.whl (22 kB)\n",
            "Requirement already satisfied: huggingface-hub in /usr/local/lib/python3.10/dist-packages (from unstructured-inference==0.7.36->unstructured[all-docs]) (0.23.4)\n",
            "Collecting onnxruntime>=1.17.0 (from unstructured-inference==0.7.36->unstructured[all-docs])\n",
            "  Downloading onnxruntime-1.18.1-cp310-cp310-manylinux_2_27_x86_64.manylinux_2_28_x86_64.whl (6.8 MB)\n",
            "\u001b[2K     \u001b[90m━━━━━━━━━━━━━━━━━━━━━━━━━━━━━━━━━━━━━━━━\u001b[0m \u001b[32m6.8/6.8 MB\u001b[0m \u001b[31m63.9 MB/s\u001b[0m eta \u001b[36m0:00:00\u001b[0m\n",
            "\u001b[?25hRequirement already satisfied: matplotlib in /usr/local/lib/python3.10/dist-packages (from unstructured-inference==0.7.36->unstructured[all-docs]) (3.7.1)\n",
            "Requirement already satisfied: torch in /usr/local/lib/python3.10/dist-packages (from unstructured-inference==0.7.36->unstructured[all-docs]) (2.3.0+cu121)\n",
            "Collecting timm (from unstructured-inference==0.7.36->unstructured[all-docs])\n",
            "  Downloading timm-1.0.7-py3-none-any.whl (2.3 MB)\n",
            "\u001b[2K     \u001b[90m━━━━━━━━━━━━━━━━━━━━━━━━━━━━━━━━━━━━━━━━\u001b[0m \u001b[32m2.3/2.3 MB\u001b[0m \u001b[31m56.2 MB/s\u001b[0m eta \u001b[36m0:00:00\u001b[0m\n",
            "\u001b[?25hRequirement already satisfied: transformers>=4.25.1 in /usr/local/lib/python3.10/dist-packages (from unstructured-inference==0.7.36->unstructured[all-docs]) (4.41.2)\n",
            "Requirement already satisfied: annotated-types>=0.4.0 in /usr/local/lib/python3.10/dist-packages (from pydantic) (0.7.0)\n",
            "Requirement already satisfied: pydantic-core==2.20.0 in /usr/local/lib/python3.10/dist-packages (from pydantic) (2.20.0)\n",
            "Requirement already satisfied: anyio<5,>=3.5.0 in /usr/local/lib/python3.10/dist-packages (from openai) (3.7.1)\n",
            "Requirement already satisfied: distro<2,>=1.7.0 in /usr/lib/python3/dist-packages (from openai) (1.7.0)\n",
            "Collecting httpx<1,>=0.23.0 (from openai)\n",
            "  Downloading httpx-0.27.0-py3-none-any.whl (75 kB)\n",
            "\u001b[2K     \u001b[90m━━━━━━━━━━━━━━━━━━━━━━━━━━━━━━━━━━━━━━━━\u001b[0m \u001b[32m75.6/75.6 kB\u001b[0m \u001b[31m10.2 MB/s\u001b[0m eta \u001b[36m0:00:00\u001b[0m\n",
            "\u001b[?25hRequirement already satisfied: sniffio in /usr/local/lib/python3.10/dist-packages (from openai) (1.3.1)\n",
            "Requirement already satisfied: packaging in /usr/local/lib/python3.10/dist-packages (from faiss-cpu) (24.1)\n",
            "Requirement already satisfied: regex>=2022.1.18 in /usr/local/lib/python3.10/dist-packages (from tiktoken) (2024.5.15)\n",
            "Requirement already satisfied: aiosignal>=1.1.2 in /usr/local/lib/python3.10/dist-packages (from aiohttp<4.0.0,>=3.8.3->langchain) (1.3.1)\n",
            "Requirement already satisfied: attrs>=17.3.0 in /usr/local/lib/python3.10/dist-packages (from aiohttp<4.0.0,>=3.8.3->langchain) (23.2.0)\n",
            "Requirement already satisfied: frozenlist>=1.1.1 in /usr/local/lib/python3.10/dist-packages (from aiohttp<4.0.0,>=3.8.3->langchain) (1.4.1)\n",
            "Requirement already satisfied: multidict<7.0,>=4.5 in /usr/local/lib/python3.10/dist-packages (from aiohttp<4.0.0,>=3.8.3->langchain) (6.0.5)\n",
            "Requirement already satisfied: yarl<2.0,>=1.0 in /usr/local/lib/python3.10/dist-packages (from aiohttp<4.0.0,>=3.8.3->langchain) (1.9.4)\n",
            "Requirement already satisfied: idna>=2.8 in /usr/local/lib/python3.10/dist-packages (from anyio<5,>=3.5.0->openai) (3.7)\n",
            "Requirement already satisfied: exceptiongroup in /usr/local/lib/python3.10/dist-packages (from anyio<5,>=3.5.0->openai) (1.2.1)\n",
            "Requirement already satisfied: certifi in /usr/local/lib/python3.10/dist-packages (from httpx<1,>=0.23.0->openai) (2024.6.2)\n",
            "Collecting httpcore==1.* (from httpx<1,>=0.23.0->openai)\n",
            "  Downloading httpcore-1.0.5-py3-none-any.whl (77 kB)\n",
            "\u001b[2K     \u001b[90m━━━━━━━━━━━━━━━━━━━━━━━━━━━━━━━━━━━━━━━━\u001b[0m \u001b[32m77.9/77.9 kB\u001b[0m \u001b[31m10.2 MB/s\u001b[0m eta \u001b[36m0:00:00\u001b[0m\n",
            "\u001b[?25hCollecting h11<0.15,>=0.13 (from httpcore==1.*->httpx<1,>=0.23.0->openai)\n",
            "  Downloading h11-0.14.0-py3-none-any.whl (58 kB)\n",
            "\u001b[2K     \u001b[90m━━━━━━━━━━━━━━━━━━━━━━━━━━━━━━━━━━━━━━━━\u001b[0m \u001b[32m58.3/58.3 kB\u001b[0m \u001b[31m7.3 MB/s\u001b[0m eta \u001b[36m0:00:00\u001b[0m\n",
            "\u001b[?25hCollecting jsonpatch<2.0,>=1.33 (from langchain-core<0.3.0,>=0.2.10->langchain)\n",
            "  Downloading jsonpatch-1.33-py2.py3-none-any.whl (12 kB)\n",
            "Collecting orjson<4.0.0,>=3.9.14 (from langsmith<0.2.0,>=0.1.17->langchain)\n",
            "  Downloading orjson-3.10.6-cp310-cp310-manylinux_2_17_x86_64.manylinux2014_x86_64.whl (141 kB)\n",
            "\u001b[2K     \u001b[90m━━━━━━━━━━━━━━━━━━━━━━━━━━━━━━━━━━━━━━━━\u001b[0m \u001b[32m141.1/141.1 kB\u001b[0m \u001b[31m16.7 MB/s\u001b[0m eta \u001b[36m0:00:00\u001b[0m\n",
            "\u001b[?25hRequirement already satisfied: Pillow>=3.3.2 in /usr/local/lib/python3.10/dist-packages (from python-pptx<=0.6.23->unstructured[all-docs]) (9.4.0)\n",
            "Collecting XlsxWriter>=0.5.7 (from python-pptx<=0.6.23->unstructured[all-docs])\n",
            "  Downloading XlsxWriter-3.2.0-py3-none-any.whl (159 kB)\n",
            "\u001b[2K     \u001b[90m━━━━━━━━━━━━━━━━━━━━━━━━━━━━━━━━━━━━━━━━\u001b[0m \u001b[32m159.9/159.9 kB\u001b[0m \u001b[31m19.2 MB/s\u001b[0m eta \u001b[36m0:00:00\u001b[0m\n",
            "\u001b[?25hRequirement already satisfied: charset-normalizer<4,>=2 in /usr/local/lib/python3.10/dist-packages (from requests<3,>=2->langchain) (3.3.2)\n",
            "Requirement already satisfied: urllib3<3,>=1.21.1 in /usr/local/lib/python3.10/dist-packages (from requests<3,>=2->langchain) (2.0.7)\n",
            "Requirement already satisfied: greenlet!=0.4.17 in /usr/local/lib/python3.10/dist-packages (from SQLAlchemy<3,>=1.4->langchain) (3.0.3)\n",
            "Requirement already satisfied: soupsieve>1.2 in /usr/local/lib/python3.10/dist-packages (from beautifulsoup4->unstructured[all-docs]) (2.5)\n",
            "Collecting marshmallow<4.0.0,>=3.18.0 (from dataclasses-json->unstructured[all-docs])\n",
            "  Downloading marshmallow-3.21.3-py3-none-any.whl (49 kB)\n",
            "\u001b[2K     \u001b[90m━━━━━━━━━━━━━━━━━━━━━━━━━━━━━━━━━━━━━━━━\u001b[0m \u001b[32m49.2/49.2 kB\u001b[0m \u001b[31m5.9 MB/s\u001b[0m eta \u001b[36m0:00:00\u001b[0m\n",
            "\u001b[?25hCollecting typing-inspect<1,>=0.4.0 (from dataclasses-json->unstructured[all-docs])\n",
            "  Downloading typing_inspect-0.9.0-py3-none-any.whl (8.8 kB)\n",
            "Requirement already satisfied: torchvision in /usr/local/lib/python3.10/dist-packages (from effdet->unstructured[all-docs]) (0.18.0+cu121)\n",
            "Requirement already satisfied: pycocotools>=2.0.2 in /usr/local/lib/python3.10/dist-packages (from effdet->unstructured[all-docs]) (2.0.8)\n",
            "Collecting omegaconf>=2.0 (from effdet->unstructured[all-docs])\n",
            "  Downloading omegaconf-2.3.0-py3-none-any.whl (79 kB)\n",
            "\u001b[2K     \u001b[90m━━━━━━━━━━━━━━━━━━━━━━━━━━━━━━━━━━━━━━━━\u001b[0m \u001b[32m79.5/79.5 kB\u001b[0m \u001b[31m9.1 MB/s\u001b[0m eta \u001b[36m0:00:00\u001b[0m\n",
            "\u001b[?25hRequirement already satisfied: google-api-core[grpc]!=2.0.*,!=2.1.*,!=2.10.*,!=2.2.*,!=2.3.*,!=2.4.*,!=2.5.*,!=2.6.*,!=2.7.*,!=2.8.*,!=2.9.*,<3.0.0dev,>=1.34.1 in /usr/local/lib/python3.10/dist-packages (from google-cloud-vision->unstructured[all-docs]) (2.16.2)\n",
            "Requirement already satisfied: google-auth!=2.24.0,!=2.25.0,<3.0.0dev,>=2.14.1 in /usr/local/lib/python3.10/dist-packages (from google-cloud-vision->unstructured[all-docs]) (2.27.0)\n",
            "Requirement already satisfied: proto-plus<2.0.0dev,>=1.22.3 in /usr/local/lib/python3.10/dist-packages (from google-cloud-vision->unstructured[all-docs]) (1.24.0)\n",
            "Requirement already satisfied: protobuf!=3.20.0,!=3.20.1,!=4.21.0,!=4.21.1,!=4.21.2,!=4.21.3,!=4.21.4,!=4.21.5,<5.0.0dev,>=3.19.5 in /usr/local/lib/python3.10/dist-packages (from google-cloud-vision->unstructured[all-docs]) (3.20.3)\n",
            "Requirement already satisfied: six in /usr/local/lib/python3.10/dist-packages (from langdetect->unstructured[all-docs]) (1.16.0)\n",
            "Requirement already satisfied: click in /usr/local/lib/python3.10/dist-packages (from nltk->unstructured[all-docs]) (8.1.7)\n",
            "Requirement already satisfied: joblib in /usr/local/lib/python3.10/dist-packages (from nltk->unstructured[all-docs]) (1.4.2)\n",
            "Requirement already satisfied: et-xmlfile in /usr/local/lib/python3.10/dist-packages (from openpyxl->unstructured[all-docs]) (1.1.0)\n",
            "Requirement already satisfied: python-dateutil>=2.8.2 in /usr/local/lib/python3.10/dist-packages (from pandas->unstructured[all-docs]) (2.8.2)\n",
            "Requirement already satisfied: pytz>=2020.1 in /usr/local/lib/python3.10/dist-packages (from pandas->unstructured[all-docs]) (2023.4)\n",
            "Requirement already satisfied: tzdata>=2022.1 in /usr/local/lib/python3.10/dist-packages (from pandas->unstructured[all-docs]) (2024.1)\n",
            "Requirement already satisfied: cryptography>=36.0.0 in /usr/local/lib/python3.10/dist-packages (from pdfminer.six->unstructured[all-docs]) (42.0.8)\n",
            "Collecting Pillow>=3.3.2 (from python-pptx<=0.6.23->unstructured[all-docs])\n",
            "  Downloading pillow-10.4.0-cp310-cp310-manylinux_2_28_x86_64.whl (4.5 MB)\n",
            "\u001b[2K     \u001b[90m━━━━━━━━━━━━━━━━━━━━━━━━━━━━━━━━━━━━━━━━\u001b[0m \u001b[32m4.5/4.5 MB\u001b[0m \u001b[31m74.4 MB/s\u001b[0m eta \u001b[36m0:00:00\u001b[0m\n",
            "\u001b[?25hCollecting Deprecated (from pikepdf->unstructured[all-docs])\n",
            "  Downloading Deprecated-1.2.14-py2.py3-none-any.whl (9.6 kB)\n",
            "Collecting olefile (from python-oxmsg->unstructured[all-docs])\n",
            "  Downloading olefile-0.47-py2.py3-none-any.whl (114 kB)\n",
            "\u001b[2K     \u001b[90m━━━━━━━━━━━━━━━━━━━━━━━━━━━━━━━━━━━━━━━━\u001b[0m \u001b[32m114.6/114.6 kB\u001b[0m \u001b[31m13.9 MB/s\u001b[0m eta \u001b[36m0:00:00\u001b[0m\n",
            "\u001b[?25hCollecting deepdiff>=6.0 (from unstructured-client->unstructured[all-docs])\n",
            "  Downloading deepdiff-7.0.1-py3-none-any.whl (80 kB)\n",
            "\u001b[2K     \u001b[90m━━━━━━━━━━━━━━━━━━━━━━━━━━━━━━━━━━━━━━━━\u001b[0m \u001b[32m80.8/80.8 kB\u001b[0m \u001b[31m9.7 MB/s\u001b[0m eta \u001b[36m0:00:00\u001b[0m\n",
            "\u001b[?25hCollecting jsonpath-python>=1.0.6 (from unstructured-client->unstructured[all-docs])\n",
            "  Downloading jsonpath_python-1.0.6-py3-none-any.whl (7.6 kB)\n",
            "Collecting mypy-extensions>=1.0.0 (from unstructured-client->unstructured[all-docs])\n",
            "  Downloading mypy_extensions-1.0.0-py3-none-any.whl (4.7 kB)\n",
            "Requirement already satisfied: nest-asyncio>=1.6.0 in /usr/local/lib/python3.10/dist-packages (from unstructured-client->unstructured[all-docs]) (1.6.0)\n",
            "Collecting requests-toolbelt>=1.0.0 (from unstructured-client->unstructured[all-docs])\n",
            "  Downloading requests_toolbelt-1.0.0-py2.py3-none-any.whl (54 kB)\n",
            "\u001b[2K     \u001b[90m━━━━━━━━━━━━━━━━━━━━━━━━━━━━━━━━━━━━━━━━\u001b[0m \u001b[32m54.5/54.5 kB\u001b[0m \u001b[31m6.9 MB/s\u001b[0m eta \u001b[36m0:00:00\u001b[0m\n",
            "\u001b[?25hRequirement already satisfied: cffi>=1.12 in /usr/local/lib/python3.10/dist-packages (from cryptography>=36.0.0->pdfminer.six->unstructured[all-docs]) (1.16.0)\n",
            "Collecting ordered-set<4.2.0,>=4.1.0 (from deepdiff>=6.0->unstructured-client->unstructured[all-docs])\n",
            "  Downloading ordered_set-4.1.0-py3-none-any.whl (7.6 kB)\n",
            "Requirement already satisfied: googleapis-common-protos<2.0.dev0,>=1.56.2 in /usr/local/lib/python3.10/dist-packages (from google-api-core[grpc]!=2.0.*,!=2.1.*,!=2.10.*,!=2.2.*,!=2.3.*,!=2.4.*,!=2.5.*,!=2.6.*,!=2.7.*,!=2.8.*,!=2.9.*,<3.0.0dev,>=1.34.1->google-cloud-vision->unstructured[all-docs]) (1.63.2)\n",
            "Requirement already satisfied: grpcio<2.0dev,>=1.33.2 in /usr/local/lib/python3.10/dist-packages (from google-api-core[grpc]!=2.0.*,!=2.1.*,!=2.10.*,!=2.2.*,!=2.3.*,!=2.4.*,!=2.5.*,!=2.6.*,!=2.7.*,!=2.8.*,!=2.9.*,<3.0.0dev,>=1.34.1->google-cloud-vision->unstructured[all-docs]) (1.64.1)\n",
            "Requirement already satisfied: grpcio-status<2.0.dev0,>=1.33.2 in /usr/local/lib/python3.10/dist-packages (from google-api-core[grpc]!=2.0.*,!=2.1.*,!=2.10.*,!=2.2.*,!=2.3.*,!=2.4.*,!=2.5.*,!=2.6.*,!=2.7.*,!=2.8.*,!=2.9.*,<3.0.0dev,>=1.34.1->google-cloud-vision->unstructured[all-docs]) (1.48.2)\n",
            "Requirement already satisfied: cachetools<6.0,>=2.0.0 in /usr/local/lib/python3.10/dist-packages (from google-auth!=2.24.0,!=2.25.0,<3.0.0dev,>=2.14.1->google-cloud-vision->unstructured[all-docs]) (5.3.3)\n",
            "Requirement already satisfied: pyasn1-modules>=0.2.1 in /usr/local/lib/python3.10/dist-packages (from google-auth!=2.24.0,!=2.25.0,<3.0.0dev,>=2.14.1->google-cloud-vision->unstructured[all-docs]) (0.4.0)\n",
            "Requirement already satisfied: rsa<5,>=3.1.4 in /usr/local/lib/python3.10/dist-packages (from google-auth!=2.24.0,!=2.25.0,<3.0.0dev,>=2.14.1->google-cloud-vision->unstructured[all-docs]) (4.9)\n",
            "Collecting jsonpointer>=1.9 (from jsonpatch<2.0,>=1.33->langchain-core<0.3.0,>=0.2.10->langchain)\n",
            "  Downloading jsonpointer-3.0.0-py2.py3-none-any.whl (7.6 kB)\n",
            "Collecting antlr4-python3-runtime==4.9.* (from omegaconf>=2.0->effdet->unstructured[all-docs])\n",
            "  Downloading antlr4-python3-runtime-4.9.3.tar.gz (117 kB)\n",
            "\u001b[2K     \u001b[90m━━━━━━━━━━━━━━━━━━━━━━━━━━━━━━━━━━━━━━━━\u001b[0m \u001b[32m117.0/117.0 kB\u001b[0m \u001b[31m15.1 MB/s\u001b[0m eta \u001b[36m0:00:00\u001b[0m\n",
            "\u001b[?25h  Preparing metadata (setup.py) ... \u001b[?25l\u001b[?25hdone\n",
            "Collecting coloredlogs (from onnxruntime>=1.17.0->unstructured-inference==0.7.36->unstructured[all-docs])\n",
            "  Downloading coloredlogs-15.0.1-py2.py3-none-any.whl (46 kB)\n",
            "\u001b[2K     \u001b[90m━━━━━━━━━━━━━━━━━━━━━━━━━━━━━━━━━━━━━━━━\u001b[0m \u001b[32m46.0/46.0 kB\u001b[0m \u001b[31m5.9 MB/s\u001b[0m eta \u001b[36m0:00:00\u001b[0m\n",
            "\u001b[?25hRequirement already satisfied: flatbuffers in /usr/local/lib/python3.10/dist-packages (from onnxruntime>=1.17.0->unstructured-inference==0.7.36->unstructured[all-docs]) (24.3.25)\n",
            "Requirement already satisfied: sympy in /usr/local/lib/python3.10/dist-packages (from onnxruntime>=1.17.0->unstructured-inference==0.7.36->unstructured[all-docs]) (1.12.1)\n",
            "Requirement already satisfied: contourpy>=1.0.1 in /usr/local/lib/python3.10/dist-packages (from matplotlib->unstructured-inference==0.7.36->unstructured[all-docs]) (1.2.1)\n",
            "Requirement already satisfied: cycler>=0.10 in /usr/local/lib/python3.10/dist-packages (from matplotlib->unstructured-inference==0.7.36->unstructured[all-docs]) (0.12.1)\n",
            "Requirement already satisfied: fonttools>=4.22.0 in /usr/local/lib/python3.10/dist-packages (from matplotlib->unstructured-inference==0.7.36->unstructured[all-docs]) (4.53.0)\n",
            "Requirement already satisfied: kiwisolver>=1.0.1 in /usr/local/lib/python3.10/dist-packages (from matplotlib->unstructured-inference==0.7.36->unstructured[all-docs]) (1.4.5)\n",
            "Requirement already satisfied: pyparsing>=2.3.1 in /usr/local/lib/python3.10/dist-packages (from matplotlib->unstructured-inference==0.7.36->unstructured[all-docs]) (3.1.2)\n",
            "Requirement already satisfied: safetensors in /usr/local/lib/python3.10/dist-packages (from timm->unstructured-inference==0.7.36->unstructured[all-docs]) (0.4.3)\n",
            "Requirement already satisfied: filelock in /usr/local/lib/python3.10/dist-packages (from torch->unstructured-inference==0.7.36->unstructured[all-docs]) (3.15.4)\n",
            "Requirement already satisfied: jinja2 in /usr/local/lib/python3.10/dist-packages (from torch->unstructured-inference==0.7.36->unstructured[all-docs]) (3.1.4)\n",
            "Requirement already satisfied: fsspec in /usr/local/lib/python3.10/dist-packages (from torch->unstructured-inference==0.7.36->unstructured[all-docs]) (2023.6.0)\n",
            "Collecting nvidia-cuda-nvrtc-cu12==12.1.105 (from torch->unstructured-inference==0.7.36->unstructured[all-docs])\n",
            "  Using cached nvidia_cuda_nvrtc_cu12-12.1.105-py3-none-manylinux1_x86_64.whl (23.7 MB)\n",
            "Collecting nvidia-cuda-runtime-cu12==12.1.105 (from torch->unstructured-inference==0.7.36->unstructured[all-docs])\n",
            "  Using cached nvidia_cuda_runtime_cu12-12.1.105-py3-none-manylinux1_x86_64.whl (823 kB)\n",
            "Collecting nvidia-cuda-cupti-cu12==12.1.105 (from torch->unstructured-inference==0.7.36->unstructured[all-docs])\n",
            "  Using cached nvidia_cuda_cupti_cu12-12.1.105-py3-none-manylinux1_x86_64.whl (14.1 MB)\n",
            "Collecting nvidia-cudnn-cu12==8.9.2.26 (from torch->unstructured-inference==0.7.36->unstructured[all-docs])\n",
            "  Using cached nvidia_cudnn_cu12-8.9.2.26-py3-none-manylinux1_x86_64.whl (731.7 MB)\n",
            "Collecting nvidia-cublas-cu12==12.1.3.1 (from torch->unstructured-inference==0.7.36->unstructured[all-docs])\n",
            "  Using cached nvidia_cublas_cu12-12.1.3.1-py3-none-manylinux1_x86_64.whl (410.6 MB)\n",
            "Collecting nvidia-cufft-cu12==11.0.2.54 (from torch->unstructured-inference==0.7.36->unstructured[all-docs])\n",
            "  Using cached nvidia_cufft_cu12-11.0.2.54-py3-none-manylinux1_x86_64.whl (121.6 MB)\n",
            "Collecting nvidia-curand-cu12==10.3.2.106 (from torch->unstructured-inference==0.7.36->unstructured[all-docs])\n",
            "  Using cached nvidia_curand_cu12-10.3.2.106-py3-none-manylinux1_x86_64.whl (56.5 MB)\n",
            "Collecting nvidia-cusolver-cu12==11.4.5.107 (from torch->unstructured-inference==0.7.36->unstructured[all-docs])\n",
            "  Using cached nvidia_cusolver_cu12-11.4.5.107-py3-none-manylinux1_x86_64.whl (124.2 MB)\n",
            "Collecting nvidia-cusparse-cu12==12.1.0.106 (from torch->unstructured-inference==0.7.36->unstructured[all-docs])\n",
            "  Using cached nvidia_cusparse_cu12-12.1.0.106-py3-none-manylinux1_x86_64.whl (196.0 MB)\n",
            "Collecting nvidia-nccl-cu12==2.20.5 (from torch->unstructured-inference==0.7.36->unstructured[all-docs])\n",
            "  Using cached nvidia_nccl_cu12-2.20.5-py3-none-manylinux2014_x86_64.whl (176.2 MB)\n",
            "Collecting nvidia-nvtx-cu12==12.1.105 (from torch->unstructured-inference==0.7.36->unstructured[all-docs])\n",
            "  Using cached nvidia_nvtx_cu12-12.1.105-py3-none-manylinux1_x86_64.whl (99 kB)\n",
            "Requirement already satisfied: triton==2.3.0 in /usr/local/lib/python3.10/dist-packages (from torch->unstructured-inference==0.7.36->unstructured[all-docs]) (2.3.0)\n",
            "Collecting nvidia-nvjitlink-cu12 (from nvidia-cusolver-cu12==11.4.5.107->torch->unstructured-inference==0.7.36->unstructured[all-docs])\n",
            "  Downloading nvidia_nvjitlink_cu12-12.5.82-py3-none-manylinux2014_x86_64.whl (21.3 MB)\n",
            "\u001b[2K     \u001b[90m━━━━━━━━━━━━━━━━━━━━━━━━━━━━━━━━━━━━━━━━\u001b[0m \u001b[32m21.3/21.3 MB\u001b[0m \u001b[31m66.8 MB/s\u001b[0m eta \u001b[36m0:00:00\u001b[0m\n",
            "\u001b[?25hRequirement already satisfied: tokenizers<0.20,>=0.19 in /usr/local/lib/python3.10/dist-packages (from transformers>=4.25.1->unstructured-inference==0.7.36->unstructured[all-docs]) (0.19.1)\n",
            "Requirement already satisfied: scipy in /usr/local/lib/python3.10/dist-packages (from layoutparser->unstructured-inference==0.7.36->unstructured[all-docs]) (1.11.4)\n",
            "Collecting iopath (from layoutparser->unstructured-inference==0.7.36->unstructured[all-docs])\n",
            "  Downloading iopath-0.1.10.tar.gz (42 kB)\n",
            "\u001b[2K     \u001b[90m━━━━━━━━━━━━━━━━━━━━━━━━━━━━━━━━━━━━━━━━\u001b[0m \u001b[32m42.2/42.2 kB\u001b[0m \u001b[31m4.9 MB/s\u001b[0m eta \u001b[36m0:00:00\u001b[0m\n",
            "\u001b[?25h  Preparing metadata (setup.py) ... \u001b[?25l\u001b[?25hdone\n",
            "Collecting pdfplumber (from layoutparser->unstructured-inference==0.7.36->unstructured[all-docs])\n",
            "  Downloading pdfplumber-0.11.2-py3-none-any.whl (58 kB)\n",
            "\u001b[2K     \u001b[90m━━━━━━━━━━━━━━━━━━━━━━━━━━━━━━━━━━━━━━━━\u001b[0m \u001b[32m58.0/58.0 kB\u001b[0m \u001b[31m6.5 MB/s\u001b[0m eta \u001b[36m0:00:00\u001b[0m\n",
            "\u001b[?25hRequirement already satisfied: pycparser in /usr/local/lib/python3.10/dist-packages (from cffi>=1.12->cryptography>=36.0.0->pdfminer.six->unstructured[all-docs]) (2.22)\n",
            "Requirement already satisfied: pyasn1<0.7.0,>=0.4.6 in /usr/local/lib/python3.10/dist-packages (from pyasn1-modules>=0.2.1->google-auth!=2.24.0,!=2.25.0,<3.0.0dev,>=2.14.1->google-cloud-vision->unstructured[all-docs]) (0.6.0)\n",
            "Collecting humanfriendly>=9.1 (from coloredlogs->onnxruntime>=1.17.0->unstructured-inference==0.7.36->unstructured[all-docs])\n",
            "  Downloading humanfriendly-10.0-py2.py3-none-any.whl (86 kB)\n",
            "\u001b[2K     \u001b[90m━━━━━━━━━━━━━━━━━━━━━━━━━━━━━━━━━━━━━━━━\u001b[0m \u001b[32m86.8/86.8 kB\u001b[0m \u001b[31m11.6 MB/s\u001b[0m eta \u001b[36m0:00:00\u001b[0m\n",
            "\u001b[?25hCollecting portalocker (from iopath->layoutparser->unstructured-inference==0.7.36->unstructured[all-docs])\n",
            "  Downloading portalocker-2.10.0-py3-none-any.whl (18 kB)\n",
            "Requirement already satisfied: MarkupSafe>=2.0 in /usr/local/lib/python3.10/dist-packages (from jinja2->torch->unstructured-inference==0.7.36->unstructured[all-docs]) (2.1.5)\n",
            "Collecting pdfminer.six (from unstructured[all-docs])\n",
            "  Downloading pdfminer.six-20231228-py3-none-any.whl (5.6 MB)\n",
            "\u001b[2K     \u001b[90m━━━━━━━━━━━━━━━━━━━━━━━━━━━━━━━━━━━━━━━━\u001b[0m \u001b[32m5.6/5.6 MB\u001b[0m \u001b[31m90.2 MB/s\u001b[0m eta \u001b[36m0:00:00\u001b[0m\n",
            "\u001b[?25hCollecting pypdfium2>=4.18.0 (from pdfplumber->layoutparser->unstructured-inference==0.7.36->unstructured[all-docs])\n",
            "  Downloading pypdfium2-4.30.0-py3-none-manylinux_2_17_x86_64.manylinux2014_x86_64.whl (2.8 MB)\n",
            "\u001b[2K     \u001b[90m━━━━━━━━━━━━━━━━━━━━━━━━━━━━━━━━━━━━━━━━\u001b[0m \u001b[32m2.8/2.8 MB\u001b[0m \u001b[31m78.6 MB/s\u001b[0m eta \u001b[36m0:00:00\u001b[0m\n",
            "\u001b[?25hRequirement already satisfied: mpmath<1.4.0,>=1.1.0 in /usr/local/lib/python3.10/dist-packages (from sympy->onnxruntime>=1.17.0->unstructured-inference==0.7.36->unstructured[all-docs]) (1.3.0)\n",
            "Building wheels for collected packages: langdetect, antlr4-python3-runtime, iopath\n",
            "  Building wheel for langdetect (setup.py) ... \u001b[?25l\u001b[?25hdone\n",
            "  Created wheel for langdetect: filename=langdetect-1.0.9-py3-none-any.whl size=993227 sha256=8b7d12a04c4d991ac079775706c73f8f2e7f9c4d577270e23182bcb193cf70b8\n",
            "  Stored in directory: /root/.cache/pip/wheels/95/03/7d/59ea870c70ce4e5a370638b5462a7711ab78fba2f655d05106\n",
            "  Building wheel for antlr4-python3-runtime (setup.py) ... \u001b[?25l\u001b[?25hdone\n",
            "  Created wheel for antlr4-python3-runtime: filename=antlr4_python3_runtime-4.9.3-py3-none-any.whl size=144554 sha256=d4a1ef018691557ea293b4621dd7de6d79eaa52f98c3415d74a9bed885a1ab4f\n",
            "  Stored in directory: /root/.cache/pip/wheels/12/93/dd/1f6a127edc45659556564c5730f6d4e300888f4bca2d4c5a88\n",
            "  Building wheel for iopath (setup.py) ... \u001b[?25l\u001b[?25hdone\n",
            "  Created wheel for iopath: filename=iopath-0.1.10-py3-none-any.whl size=31532 sha256=0b32124dd61a09ce6f74cf9929e75a07d34d0445561c376bc09e4473e9609c76\n",
            "  Stored in directory: /root/.cache/pip/wheels/9a/a3/b6/ac0fcd1b4ed5cfeb3db92e6a0e476cfd48ed0df92b91080c1d\n",
            "Successfully built langdetect antlr4-python3-runtime iopath\n",
            "Installing collected packages: filetype, antlr4-python3-runtime, XlsxWriter, rapidfuzz, python-multipart, python-magic, python-iso639, python-docx, pypdfium2, pypdf, pypandoc, portalocker, Pillow, orjson, ordered-set, onnx, omegaconf, olefile, nvidia-nvtx-cu12, nvidia-nvjitlink-cu12, nvidia-nccl-cu12, nvidia-curand-cu12, nvidia-cufft-cu12, nvidia-cuda-runtime-cu12, nvidia-cuda-nvrtc-cu12, nvidia-cuda-cupti-cu12, nvidia-cublas-cu12, mypy-extensions, marshmallow, langdetect, jsonpointer, jsonpath-python, humanfriendly, h11, faiss-cpu, emoji, Deprecated, backoff, unstructured.pytesseract, typing-inspect, tiktoken, requests-toolbelt, python-pptx, python-oxmsg, pytesseract, pillow-heif, pikepdf, pdf2image, nvidia-cusparse-cu12, nvidia-cudnn-cu12, jsonpatch, iopath, httpcore, deepdiff, coloredlogs, pdfminer.six, onnxruntime, nvidia-cusolver-cu12, langsmith, httpx, dataclasses-json, unstructured-client, pdfplumber, openai, langchain-core, unstructured, layoutparser, langchain-text-splitters, google-cloud-vision, timm, langchain, unstructured-inference, effdet\n",
            "  Attempting uninstall: Pillow\n",
            "    Found existing installation: Pillow 9.4.0\n",
            "    Uninstalling Pillow-9.4.0:\n",
            "      Successfully uninstalled Pillow-9.4.0\n",
            "\u001b[31mERROR: pip's dependency resolver does not currently take into account all the packages that are installed. This behaviour is the source of the following dependency conflicts.\n",
            "imageio 2.31.6 requires pillow<10.1.0,>=8.3.2, but you have pillow 10.4.0 which is incompatible.\u001b[0m\u001b[31m\n",
            "\u001b[0mSuccessfully installed Deprecated-1.2.14 Pillow-10.4.0 XlsxWriter-3.2.0 antlr4-python3-runtime-4.9.3 backoff-2.2.1 coloredlogs-15.0.1 dataclasses-json-0.6.7 deepdiff-7.0.1 effdet-0.4.1 emoji-2.12.1 faiss-cpu-1.8.0.post1 filetype-1.2.0 google-cloud-vision-3.7.2 h11-0.14.0 httpcore-1.0.5 httpx-0.27.0 humanfriendly-10.0 iopath-0.1.10 jsonpatch-1.33 jsonpath-python-1.0.6 jsonpointer-3.0.0 langchain-0.2.6 langchain-core-0.2.11 langchain-text-splitters-0.2.2 langdetect-1.0.9 langsmith-0.1.84 layoutparser-0.3.4 marshmallow-3.21.3 mypy-extensions-1.0.0 nvidia-cublas-cu12-12.1.3.1 nvidia-cuda-cupti-cu12-12.1.105 nvidia-cuda-nvrtc-cu12-12.1.105 nvidia-cuda-runtime-cu12-12.1.105 nvidia-cudnn-cu12-8.9.2.26 nvidia-cufft-cu12-11.0.2.54 nvidia-curand-cu12-10.3.2.106 nvidia-cusolver-cu12-11.4.5.107 nvidia-cusparse-cu12-12.1.0.106 nvidia-nccl-cu12-2.20.5 nvidia-nvjitlink-cu12-12.5.82 nvidia-nvtx-cu12-12.1.105 olefile-0.47 omegaconf-2.3.0 onnx-1.16.1 onnxruntime-1.18.1 openai-1.35.10 ordered-set-4.1.0 orjson-3.10.6 pdf2image-1.17.0 pdfminer.six-20231228 pdfplumber-0.11.2 pikepdf-9.0.0 pillow-heif-0.17.0 portalocker-2.10.0 pypandoc-1.13 pypdf-4.2.0 pypdfium2-4.30.0 pytesseract-0.3.10 python-docx-1.1.2 python-iso639-2024.4.27 python-magic-0.4.27 python-multipart-0.0.9 python-oxmsg-0.0.1 python-pptx-0.6.23 rapidfuzz-3.9.4 requests-toolbelt-1.0.0 tiktoken-0.7.0 timm-1.0.7 typing-inspect-0.9.0 unstructured-0.14.9 unstructured-client-0.23.9 unstructured-inference-0.7.36 unstructured.pytesseract-0.3.12\n"
          ]
        },
        {
          "output_type": "display_data",
          "data": {
            "application/vnd.colab-display-data+json": {
              "pip_warning": {
                "packages": [
                  "PIL",
                  "google",
                  "pydevd_plugins"
                ]
              },
              "id": "d365c30c84774273adea5f9d823374ac"
            }
          },
          "metadata": {}
        }
      ]
    },
    {
      "cell_type": "code",
      "source": [
        "!pip install langchain_community"
      ],
      "metadata": {
        "colab": {
          "base_uri": "https://localhost:8080/"
        },
        "id": "4XRaQWstDJrA",
        "outputId": "8f0acad0-30ac-4967-c86a-4c9e5b99a242"
      },
      "execution_count": 1,
      "outputs": [
        {
          "output_type": "stream",
          "name": "stdout",
          "text": [
            "Collecting langchain_community\n",
            "  Using cached langchain_community-0.2.6-py3-none-any.whl (2.2 MB)\n",
            "Requirement already satisfied: PyYAML>=5.3 in /usr/local/lib/python3.10/dist-packages (from langchain_community) (6.0.1)\n",
            "Requirement already satisfied: SQLAlchemy<3,>=1.4 in /usr/local/lib/python3.10/dist-packages (from langchain_community) (2.0.31)\n",
            "Requirement already satisfied: aiohttp<4.0.0,>=3.8.3 in /usr/local/lib/python3.10/dist-packages (from langchain_community) (3.9.5)\n",
            "Requirement already satisfied: dataclasses-json<0.7,>=0.5.7 in /usr/local/lib/python3.10/dist-packages (from langchain_community) (0.6.7)\n",
            "Requirement already satisfied: langchain<0.3.0,>=0.2.6 in /usr/local/lib/python3.10/dist-packages (from langchain_community) (0.2.6)\n",
            "Requirement already satisfied: langchain-core<0.3.0,>=0.2.10 in /usr/local/lib/python3.10/dist-packages (from langchain_community) (0.2.11)\n",
            "Requirement already satisfied: langsmith<0.2.0,>=0.1.0 in /usr/local/lib/python3.10/dist-packages (from langchain_community) (0.1.84)\n",
            "Requirement already satisfied: numpy<2,>=1 in /usr/local/lib/python3.10/dist-packages (from langchain_community) (1.25.2)\n",
            "Requirement already satisfied: requests<3,>=2 in /usr/local/lib/python3.10/dist-packages (from langchain_community) (2.31.0)\n",
            "Requirement already satisfied: tenacity!=8.4.0,<9.0.0,>=8.1.0 in /usr/local/lib/python3.10/dist-packages (from langchain_community) (8.4.2)\n",
            "Requirement already satisfied: aiosignal>=1.1.2 in /usr/local/lib/python3.10/dist-packages (from aiohttp<4.0.0,>=3.8.3->langchain_community) (1.3.1)\n",
            "Requirement already satisfied: attrs>=17.3.0 in /usr/local/lib/python3.10/dist-packages (from aiohttp<4.0.0,>=3.8.3->langchain_community) (23.2.0)\n",
            "Requirement already satisfied: frozenlist>=1.1.1 in /usr/local/lib/python3.10/dist-packages (from aiohttp<4.0.0,>=3.8.3->langchain_community) (1.4.1)\n",
            "Requirement already satisfied: multidict<7.0,>=4.5 in /usr/local/lib/python3.10/dist-packages (from aiohttp<4.0.0,>=3.8.3->langchain_community) (6.0.5)\n",
            "Requirement already satisfied: yarl<2.0,>=1.0 in /usr/local/lib/python3.10/dist-packages (from aiohttp<4.0.0,>=3.8.3->langchain_community) (1.9.4)\n",
            "Requirement already satisfied: async-timeout<5.0,>=4.0 in /usr/local/lib/python3.10/dist-packages (from aiohttp<4.0.0,>=3.8.3->langchain_community) (4.0.3)\n",
            "Requirement already satisfied: marshmallow<4.0.0,>=3.18.0 in /usr/local/lib/python3.10/dist-packages (from dataclasses-json<0.7,>=0.5.7->langchain_community) (3.21.3)\n",
            "Requirement already satisfied: typing-inspect<1,>=0.4.0 in /usr/local/lib/python3.10/dist-packages (from dataclasses-json<0.7,>=0.5.7->langchain_community) (0.9.0)\n",
            "Requirement already satisfied: langchain-text-splitters<0.3.0,>=0.2.0 in /usr/local/lib/python3.10/dist-packages (from langchain<0.3.0,>=0.2.6->langchain_community) (0.2.2)\n",
            "Requirement already satisfied: pydantic<3,>=1 in /usr/local/lib/python3.10/dist-packages (from langchain<0.3.0,>=0.2.6->langchain_community) (2.8.0)\n",
            "Requirement already satisfied: jsonpatch<2.0,>=1.33 in /usr/local/lib/python3.10/dist-packages (from langchain-core<0.3.0,>=0.2.10->langchain_community) (1.33)\n",
            "Requirement already satisfied: packaging<25,>=23.2 in /usr/local/lib/python3.10/dist-packages (from langchain-core<0.3.0,>=0.2.10->langchain_community) (24.1)\n",
            "Requirement already satisfied: orjson<4.0.0,>=3.9.14 in /usr/local/lib/python3.10/dist-packages (from langsmith<0.2.0,>=0.1.0->langchain_community) (3.10.6)\n",
            "Requirement already satisfied: charset-normalizer<4,>=2 in /usr/local/lib/python3.10/dist-packages (from requests<3,>=2->langchain_community) (3.3.2)\n",
            "Requirement already satisfied: idna<4,>=2.5 in /usr/local/lib/python3.10/dist-packages (from requests<3,>=2->langchain_community) (3.7)\n",
            "Requirement already satisfied: urllib3<3,>=1.21.1 in /usr/local/lib/python3.10/dist-packages (from requests<3,>=2->langchain_community) (2.0.7)\n",
            "Requirement already satisfied: certifi>=2017.4.17 in /usr/local/lib/python3.10/dist-packages (from requests<3,>=2->langchain_community) (2024.6.2)\n",
            "Requirement already satisfied: typing-extensions>=4.6.0 in /usr/local/lib/python3.10/dist-packages (from SQLAlchemy<3,>=1.4->langchain_community) (4.12.2)\n",
            "Requirement already satisfied: greenlet!=0.4.17 in /usr/local/lib/python3.10/dist-packages (from SQLAlchemy<3,>=1.4->langchain_community) (3.0.3)\n",
            "Requirement already satisfied: jsonpointer>=1.9 in /usr/local/lib/python3.10/dist-packages (from jsonpatch<2.0,>=1.33->langchain-core<0.3.0,>=0.2.10->langchain_community) (3.0.0)\n",
            "Requirement already satisfied: annotated-types>=0.4.0 in /usr/local/lib/python3.10/dist-packages (from pydantic<3,>=1->langchain<0.3.0,>=0.2.6->langchain_community) (0.7.0)\n",
            "Requirement already satisfied: pydantic-core==2.20.0 in /usr/local/lib/python3.10/dist-packages (from pydantic<3,>=1->langchain<0.3.0,>=0.2.6->langchain_community) (2.20.0)\n",
            "Requirement already satisfied: mypy-extensions>=0.3.0 in /usr/local/lib/python3.10/dist-packages (from typing-inspect<1,>=0.4.0->dataclasses-json<0.7,>=0.5.7->langchain_community) (1.0.0)\n",
            "Installing collected packages: langchain_community\n",
            "Successfully installed langchain_community-0.2.6\n"
          ]
        }
      ]
    },
    {
      "cell_type": "code",
      "source": [
        "import os\n",
        "import uuid\n",
        "import base64\n",
        "from IPython import display\n",
        "from unstructured.partition.pdf import partition_pdf\n",
        "from langchain.chat_models import ChatOpenAI\n",
        "from langchain.embeddings import OpenAIEmbeddings\n",
        "from langchain.chains import LLMChain\n",
        "from langchain.prompts import PromptTemplate\n",
        "from langchain.vectorstores import FAISS\n",
        "from langchain.schema.messages import SystemMessage, HumanMessage\n",
        "from langchain.schema.document import Document\n",
        "from langchain.retrievers.multi_vector import MultiVectorRetriever"
      ],
      "metadata": {
        "id": "_eOTeyFN2D6U"
      },
      "execution_count": 2,
      "outputs": []
    },
    {
      "cell_type": "code",
      "source": [
        "from google.colab import userdata"
      ],
      "metadata": {
        "id": "WIulg3nSEqQw"
      },
      "execution_count": 3,
      "outputs": []
    },
    {
      "cell_type": "code",
      "source": [
        "import time"
      ],
      "metadata": {
        "id": "nzKCZs6urQsP"
      },
      "execution_count": 4,
      "outputs": []
    },
    {
      "cell_type": "code",
      "source": [
        "openai_api_key = userdata.get('oai_api')"
      ],
      "metadata": {
        "id": "K1UrXgCyE42Y"
      },
      "execution_count": 5,
      "outputs": []
    },
    {
      "cell_type": "code",
      "source": [
        "output_path = './images'"
      ],
      "metadata": {
        "id": "MV-doEOXLnQk"
      },
      "execution_count": 6,
      "outputs": []
    },
    {
      "cell_type": "code",
      "source": [
        "raw_pdf_elements = partition_pdf(\n",
        "    filename = '/content/AC-Aids-for-Dogs_Canine-Periodontal-Disease.pdf',\n",
        "    extract_images_in_pdf= True,\n",
        "    infer_table_structure= True,\n",
        "    chunking_strategy= 'by_title',\n",
        "    max_characters = 4000,\n",
        "    new_after_n_chars = 3800,\n",
        "    combine_text_after_n_chars = 2000,\n",
        "    extract_image_block_output_dir= output_path,\n",
        ")"
      ],
      "metadata": {
        "id": "2SUBUWIqFOHP",
        "colab": {
          "base_uri": "https://localhost:8080/",
          "height": 310,
          "referenced_widgets": [
            "3a988cb885cb41c8a0b17658a317a500",
            "9363b23ac23d46ac9d33224ab5d935e1",
            "2ca535a659694539877f16123d83cc82",
            "e181e5d042734d53b0fe9ceda5d5488c",
            "d7c42bae395c4fd58ad8867bbc7cf563",
            "3840dad5158e4f6f824e18ed1dd2439e",
            "536f6ea1dd074d49974669c5bcbeeec7",
            "ca1de36363494758a85b3d594427da7a",
            "f68b02d9031948f09e8e6486fb9fa332",
            "a7d3c18346b445e19af4306db62fb6a5",
            "7a0d1eb19d244f41bfd00478d407e6c2",
            "4cc5fe035dfc430485a4e04b766e44f6",
            "4dbd8f720a424a16807a8de9deca8b32",
            "c82ea78dc9734d1cb494601c99e91827",
            "b9350b6ff68944c4a9408d22b0f5aeba",
            "0df1867be02049f0b5d9c09ce7f17815",
            "0f430bc88b644f2dbf17cf52ff308251",
            "2112a73dbcdb40bdaa023277348a56dd",
            "f004611578ad47078c38aee069e41985",
            "cf2e3e7b37f1459692662519c9c3bd3f",
            "eb9bc322ccb149f0bb49dd5abefc6e5d",
            "fc8e06f8996c49cd8d26efee38dba7d9",
            "36b66b6a5aa2429a8d10d57450172872",
            "501884a1f3924eb1b9b278cfbce2d16f",
            "5b4e7b4034a1474aab9b621b35f2b08b",
            "3627b601f7914fa397c4b58c1aa7fe47",
            "01d8dfeb236c4bb3bc0d974ea22664f8",
            "eb4c30948e4a4e899789ebee3e2414a9",
            "985ba4e88f9049f09fbd52f2c5be784a",
            "e07b12947053439cb65d4932347bc8c2",
            "3dd5bd6033c54665a2bf6ef3b6a71db7",
            "6e3a4da6040245eab1432f7f38bb894c",
            "11acc4a9fdc94185834432f8e2d845f5",
            "5e3a53f57f014726876bc417d6c05cba",
            "32227b0b7d7044eca29089c725d100bd",
            "5f48423da22e42398a0ab7442453e951",
            "ebdfe79a06154f59a0ac600b31b8039e",
            "e733d62efdd747aa8d85e1129e78ee89",
            "54dd1b4449334da9a5c219ee5bf4fda4",
            "b7ff7f742bd046058b77574003e9c575",
            "75ef2efe03f344769b93efb3e17591c4",
            "c18f3bf847d04c229ae4baf33e9cde5b",
            "eee72da5510041bca9720504eadf31cc",
            "275ba032fa7e465db4cee3b50ea91bfb"
          ]
        },
        "outputId": "a64423ff-9a3e-4990-e0b0-cd2bf9b4c4af"
      },
      "execution_count": 7,
      "outputs": [
        {
          "output_type": "display_data",
          "data": {
            "text/plain": [
              "yolox_l0.05.onnx:   0%|          | 0.00/217M [00:00<?, ?B/s]"
            ],
            "application/vnd.jupyter.widget-view+json": {
              "version_major": 2,
              "version_minor": 0,
              "model_id": "3a988cb885cb41c8a0b17658a317a500"
            }
          },
          "metadata": {}
        },
        {
          "output_type": "display_data",
          "data": {
            "text/plain": [
              "config.json:   0%|          | 0.00/1.47k [00:00<?, ?B/s]"
            ],
            "application/vnd.jupyter.widget-view+json": {
              "version_major": 2,
              "version_minor": 0,
              "model_id": "4cc5fe035dfc430485a4e04b766e44f6"
            }
          },
          "metadata": {}
        },
        {
          "output_type": "display_data",
          "data": {
            "text/plain": [
              "model.safetensors:   0%|          | 0.00/115M [00:00<?, ?B/s]"
            ],
            "application/vnd.jupyter.widget-view+json": {
              "version_major": 2,
              "version_minor": 0,
              "model_id": "36b66b6a5aa2429a8d10d57450172872"
            }
          },
          "metadata": {}
        },
        {
          "output_type": "display_data",
          "data": {
            "text/plain": [
              "model.safetensors:   0%|          | 0.00/46.8M [00:00<?, ?B/s]"
            ],
            "application/vnd.jupyter.widget-view+json": {
              "version_major": 2,
              "version_minor": 0,
              "model_id": "5e3a53f57f014726876bc417d6c05cba"
            }
          },
          "metadata": {}
        },
        {
          "output_type": "stream",
          "name": "stderr",
          "text": [
            "Some weights of the model checkpoint at microsoft/table-transformer-structure-recognition were not used when initializing TableTransformerForObjectDetection: ['model.backbone.conv_encoder.model.layer2.0.downsample.1.num_batches_tracked', 'model.backbone.conv_encoder.model.layer3.0.downsample.1.num_batches_tracked', 'model.backbone.conv_encoder.model.layer4.0.downsample.1.num_batches_tracked']\n",
            "- This IS expected if you are initializing TableTransformerForObjectDetection from the checkpoint of a model trained on another task or with another architecture (e.g. initializing a BertForSequenceClassification model from a BertForPreTraining model).\n",
            "- This IS NOT expected if you are initializing TableTransformerForObjectDetection from the checkpoint of a model that you expect to be exactly identical (initializing a BertForSequenceClassification model from a BertForSequenceClassification model).\n",
            "[nltk_data] Downloading package punkt to /root/nltk_data...\n",
            "[nltk_data]   Unzipping tokenizers/punkt.zip.\n",
            "[nltk_data] Downloading package averaged_perceptron_tagger to\n",
            "[nltk_data]     /root/nltk_data...\n",
            "[nltk_data]   Unzipping taggers/averaged_perceptron_tagger.zip.\n"
          ]
        }
      ]
    },
    {
      "cell_type": "code",
      "source": [
        "text_elements = []\n",
        "table_elements = []\n",
        "text_summaries = []\n",
        "table_summaries = []\n",
        "\n",
        "summary_prompt= \"\"\"\n",
        "Summarize the following {element_type}: {element}\n",
        "\"\"\""
      ],
      "metadata": {
        "id": "aoI_CLlaQN3M"
      },
      "execution_count": 8,
      "outputs": []
    },
    {
      "cell_type": "code",
      "source": [
        "summary_chain = LLMChain(\n",
        "    llm = ChatOpenAI(model = 'gpt-3.5-turbo', openai_api_key = openai_api_key, max_tokens = 1024),\n",
        "    prompt = PromptTemplate.from_template(summary_prompt)\n",
        ")"
      ],
      "metadata": {
        "id": "FNJrHW9bVom2",
        "colab": {
          "base_uri": "https://localhost:8080/"
        },
        "outputId": "408129ef-0d37-428c-ecb0-f7afcaea95ee"
      },
      "execution_count": 9,
      "outputs": [
        {
          "output_type": "stream",
          "name": "stderr",
          "text": [
            "/usr/local/lib/python3.10/dist-packages/langchain_core/_api/deprecation.py:139: LangChainDeprecationWarning: The class `ChatOpenAI` was deprecated in LangChain 0.0.10 and will be removed in 0.3.0. An updated version of the class exists in the langchain-openai package and should be used instead. To use it run `pip install -U langchain-openai` and import as `from langchain_openai import ChatOpenAI`.\n",
            "  warn_deprecated(\n",
            "/usr/local/lib/python3.10/dist-packages/langchain_core/_api/deprecation.py:139: LangChainDeprecationWarning: The class `LLMChain` was deprecated in LangChain 0.1.17 and will be removed in 1.0. Use RunnableSequence, e.g., `prompt | llm` instead.\n",
            "  warn_deprecated(\n"
          ]
        }
      ]
    },
    {
      "cell_type": "code",
      "source": [
        "for e in raw_pdf_elements:\n",
        "  if 'CompositeElement' in repr(e):\n",
        "    text_elements.append(e.text)\n",
        "    summary = summary_chain.run({'element_type': 'text', 'element': e })\n",
        "    text_summaries.append(summary)\n",
        "  elif 'Table' in repr(e):\n",
        "    table_elements.append(e.text)\n",
        "    summary = summary_chain.run({'element_type': 'table', 'element': e })\n",
        "    table_summaries.append(summary)"
      ],
      "metadata": {
        "id": "KYPju3Eamae3",
        "colab": {
          "base_uri": "https://localhost:8080/"
        },
        "outputId": "1bb8e046-2d79-4aea-a151-25f5a19b33e0"
      },
      "execution_count": 10,
      "outputs": [
        {
          "output_type": "stream",
          "name": "stderr",
          "text": [
            "/usr/local/lib/python3.10/dist-packages/langchain_core/_api/deprecation.py:139: LangChainDeprecationWarning: The method `Chain.run` was deprecated in langchain 0.1.0 and will be removed in 0.3.0. Use invoke instead.\n",
            "  warn_deprecated(\n"
          ]
        }
      ]
    },
    {
      "cell_type": "code",
      "source": [
        "# get image summary\n",
        "image_elements = []\n",
        "image_summaries = []\n",
        "def encode_image(image_path):\n",
        "  with open(image_path, 'rb') as f:\n",
        "    return base64.b64encode(f.read()).decode('utf-8')\n",
        "\n",
        "def summarize_image(encoded_image):\n",
        "  prompt = [\n",
        "      SystemMessage(content=\"You are a bot that is good at analyzing images related with Dog's health.\"),\n",
        "      HumanMessage(content= [\n",
        "          {\"type\": \"text\",\n",
        "           \"text\": \"Describe the contents of this image\"\n",
        "           },\n",
        "          {\"type\" : \"image_url\",\n",
        "           \"image_url\": {\"url\": f\"data:image/jpeg;base64,{encoded_image}\"},\n",
        "           }\n",
        "      ])\n",
        "  ]\n",
        "  response = ChatOpenAI(model=\"gpt-4o\", openai_api_key = openai_api_key, max_tokens = 1064).invoke(prompt)\n",
        "  return response.content\n",
        "\n",
        "for i in os.listdir(output_path):\n",
        "  if i.endswith(('.png', '.jpg', '.jpeg')):\n",
        "    image_path = os.path.join(output_path, i)\n",
        "    encoded_image = encode_image(image_path)\n",
        "    image_elements.append(encoded_image)\n",
        "    summary = summarize_image(encoded_image)\n",
        "    image_summaries.append(summary)\n"
      ],
      "metadata": {
        "id": "Qf_ns3fP-E4X"
      },
      "execution_count": 11,
      "outputs": []
    },
    {
      "cell_type": "code",
      "source": [
        "# creating documents and vectorstore\n",
        "documents = []\n",
        "retrieve_contents = []\n",
        "for e, s in zip(text_elements, text_summaries):\n",
        "  i = str(uuid.uuid4())\n",
        "  doc = Document(page_content= s,\n",
        "                 metadata={'id': i,\n",
        "                           'type': 'text',\n",
        "                           'original_content': e})\n",
        "  retrieve_contents.append((i,e))\n",
        "  documents.append(doc)\n",
        "\n",
        "for e, s in zip(table_elements, table_summaries):\n",
        "  i = str(uuid.uuid4())\n",
        "  doc = Document(page_content= s,\n",
        "                 metadata={'id': i,\n",
        "                           'type': 'table',\n",
        "                           'original_content': e})\n",
        "  retrieve_contents.append((i,e))\n",
        "  documents.append(doc)\n",
        "\n",
        "for e, s in zip(image_elements, image_summaries):\n",
        "  i = str(uuid.uuid4())\n",
        "  doc = Document(page_content= s,\n",
        "                 metadata={'id': i,\n",
        "                           'type': 'image',\n",
        "                           'original_content': e})\n",
        "  retrieve_contents.append((i,e))\n",
        "  documents.append(doc)\n",
        "\n",
        "vectorstore = FAISS.from_documents(documents = documents, embedding = OpenAIEmbeddings(openai_api_key = openai_api_key))"
      ],
      "metadata": {
        "colab": {
          "base_uri": "https://localhost:8080/"
        },
        "id": "bF3jiGEqKVL4",
        "outputId": "ae429474-b538-4576-8259-8191d1d00e61"
      },
      "execution_count": 12,
      "outputs": [
        {
          "output_type": "stream",
          "name": "stderr",
          "text": [
            "/usr/local/lib/python3.10/dist-packages/langchain_core/_api/deprecation.py:139: LangChainDeprecationWarning: The class `OpenAIEmbeddings` was deprecated in LangChain 0.0.9 and will be removed in 0.3.0. An updated version of the class exists in the langchain-openai package and should be used instead. To use it run `pip install -U langchain-openai` and import as `from langchain_openai import OpenAIEmbeddings`.\n",
            "  warn_deprecated(\n"
          ]
        }
      ]
    },
    {
      "cell_type": "code",
      "source": [
        "vectorstore.save_local('faiss_index')"
      ],
      "metadata": {
        "id": "cngaGo0ZNnah"
      },
      "execution_count": 13,
      "outputs": []
    },
    {
      "cell_type": "code",
      "source": [
        "embeddings = OpenAIEmbeddings(openai_api_key = openai_api_key)"
      ],
      "metadata": {
        "id": "uJqxMp2OOoXS"
      },
      "execution_count": 14,
      "outputs": []
    },
    {
      "cell_type": "code",
      "source": [
        "db = FAISS.load_local(\"faiss_index\", embeddings, allow_dangerous_deserialization=True)"
      ],
      "metadata": {
        "id": "3B_T6NCgOtYj"
      },
      "execution_count": 15,
      "outputs": []
    },
    {
      "cell_type": "code",
      "source": [
        "db"
      ],
      "metadata": {
        "colab": {
          "base_uri": "https://localhost:8080/"
        },
        "id": "_-1GAzfnPKO5",
        "outputId": "a2069e0b-810a-409b-8d19-8e2158b72fdc"
      },
      "execution_count": 16,
      "outputs": [
        {
          "output_type": "execute_result",
          "data": {
            "text/plain": [
              "<langchain_community.vectorstores.faiss.FAISS at 0x7e232b010d90>"
            ]
          },
          "metadata": {},
          "execution_count": 16
        }
      ]
    },
    {
      "cell_type": "code",
      "source": [
        "prompt_template = \"\"\"\n",
        "You are a vet doctor and an expert in analyzing dog's health.\n",
        "Answer the question based only on the following context, which can include text, images and tables:\n",
        "{context}\n",
        "Question: {question}\n",
        "Don't answer if you are not sure and decline to answer and say \"Sorry, I don't have much information about it.\"\n",
        "Just return the helpful answer in as much as detailed possible.\n",
        "Answer:\n",
        "\"\"\""
      ],
      "metadata": {
        "id": "zNAmJCqRPznl"
      },
      "execution_count": 17,
      "outputs": []
    },
    {
      "cell_type": "code",
      "source": [
        "qa_chain = LLMChain(\n",
        "    llm = ChatOpenAI(model = \"gpt-4\", openai_api_key = openai_api_key, max_tokens = 1024),\n",
        "    prompt = PromptTemplate.from_template(prompt_template)\n",
        ")"
      ],
      "metadata": {
        "id": "6t3HclFFQ8LI"
      },
      "execution_count": 18,
      "outputs": []
    },
    {
      "cell_type": "code",
      "source": [
        "def answer(question):\n",
        "  relevant_docs = db.similarity_search(question)\n",
        "  context = \"\"\n",
        "  relevant_images = []\n",
        "  for d in relevant_docs:\n",
        "    if d.metadata['type'] == 'text':\n",
        "      # Use string formatting to combine the elements\n",
        "      context += '[text]' + d.metadata['original_content']\n",
        "    elif d.metadata['type'] == 'table':\n",
        "      context += '[table]' + d.metadata['original_content']\n",
        "    elif d.metadata['type'] == 'image':\n",
        "            context += '[image]' + d.page_content\n",
        "            relevant_images.append(d.metadata['original_content'])\n",
        "  result = qa_chain.run({'context': context, 'question': question})\n",
        "  return result, relevant_images"
      ],
      "metadata": {
        "id": "nbH6UEoMwfpe"
      },
      "execution_count": 24,
      "outputs": []
    },
    {
      "cell_type": "code",
      "source": [
        "result, relevant_images = answer(\"What is Gingivitis?\")\n",
        "print(result)"
      ],
      "metadata": {
        "colab": {
          "base_uri": "https://localhost:8080/"
        },
        "id": "6ZKDZTftUMLI",
        "outputId": "dbade611-d0d0-474e-e22f-46035f5cc45c"
      },
      "execution_count": 25,
      "outputs": [
        {
          "output_type": "stream",
          "name": "stdout",
          "text": [
            "Gingivitis is a type of periodontal disease that specifically refers to inflammation of the gums. It's caused by the buildup of plaque, a sticky film of bacteria, along the gumline. If not promptly and properly cleaned, this plaque hardens into tartar, which further irritates the gums, causing the inflammation known as gingivitis. If left untreated, gingivitis can progress to more severe periodontal diseases that affect the tissues and bones supporting the teeth, potentially leading to pain, infection, abscesses, and tooth loss. Notably, redness and inflammation at the gumline are typical signs of gingivitis. Regular dental hygiene is crucial in preventing gingivitis and maintaining a dog's oral health.\n"
          ]
        }
      ]
    },
    {
      "cell_type": "code",
      "source": [
        "relevant_images[0]"
      ],
      "metadata": {
        "colab": {
          "base_uri": "https://localhost:8080/",
          "height": 126
        },
        "id": "_AH6-fZOURll",
        "outputId": "fa4aadc4-31ca-4622-d1fb-ebcc3115e581"
      },
      "execution_count": 26,
      "outputs": [
        {
          "output_type": "execute_result",
          "data": {
            "text/plain": [
              "'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'"
            ],
            "application/vnd.google.colaboratory.intrinsic+json": {
              "type": "string"
            }
          },
          "metadata": {},
          "execution_count": 26
        }
      ]
    },
    {
      "cell_type": "code",
      "source": [
        "display.display(display.Image(base64.b64decode(relevant_images[0])))"
      ],
      "metadata": {
        "colab": {
          "base_uri": "https://localhost:8080/",
          "height": 292
        },
        "id": "Z_tGgsikZu9S",
        "outputId": "4f89a9bd-7835-4617-ebd9-0efee5fde7a1"
      },
      "execution_count": 27,
      "outputs": [
        {
          "output_type": "display_data",
          "data": {
            "image/jpeg": "[encoded data removed]",
            "text/plain": [
              "<IPython.core.display.Image object>"
            ]
          },
          "metadata": {}
        }
      ]
    },
    {
      "cell_type": "code",
      "source": [
        "from google.colab import drive\n",
        "drive.mount('/content/drive')"
      ],
      "metadata": {
        "id": "LSBdruROZ5Dv",
        "colab": {
          "base_uri": "https://localhost:8080/"
        },
        "outputId": "5b8bc21e-0e67-4c0a-a8eb-ad4cc98df0e2"
      },
      "execution_count": 28,
      "outputs": [
        {
          "output_type": "stream",
          "name": "stdout",
          "text": [
            "Mounted at /content/drive\n"
          ]
        }
      ]
    },
    {
      "cell_type": "code",
      "source": [
        "%cd /content/faiss_index"
      ],
      "metadata": {
        "colab": {
          "base_uri": "https://localhost:8080/"
        },
        "id": "ECkyZFWGy8w3",
        "outputId": "090822da-2303-44df-f986-ab1e39da389d"
      },
      "execution_count": 29,
      "outputs": [
        {
          "output_type": "stream",
          "name": "stdout",
          "text": [
            "/content/faiss_index\n"
          ]
        }
      ]
    },
    {
      "cell_type": "code",
      "source": [
        "!zip -r faiss_index.zip /content/faiss_index"
      ],
      "metadata": {
        "colab": {
          "base_uri": "https://localhost:8080/"
        },
        "id": "TtEfNaSXzE9I",
        "outputId": "befe8876-738b-46df-face-7dc22697e2ab"
      },
      "execution_count": 30,
      "outputs": [
        {
          "output_type": "stream",
          "name": "stdout",
          "text": [
            "  adding: content/faiss_index/ (stored 0%)\n",
            "  adding: content/faiss_index/index.pkl (deflated 30%)\n",
            "  adding: content/faiss_index/index.faiss (deflated 16%)\n"
          ]
        }
      ]
    },
    {
      "cell_type": "code",
      "source": [
        "from google.colab import files\n",
        "files.download('faiss_index.zip')"
      ],
      "metadata": {
        "colab": {
          "base_uri": "https://localhost:8080/",
          "height": 17
        },
        "id": "7C8wX5lAzkk_",
        "outputId": "8f2c432b-5d54-4d43-fa81-f260e1fcf572"
      },
      "execution_count": 31,
      "outputs": [
        {
          "output_type": "display_data",
          "data": {
            "text/plain": [
              "<IPython.core.display.Javascript object>"
            ],
            "application/javascript": [
              "\n",
              "    async function download(id, filename, size) {\n",
              "      if (!google.colab.kernel.accessAllowed) {\n",
              "        return;\n",
              "      }\n",
              "      const div = document.createElement('div');\n",
              "      const label = document.createElement('label');\n",
              "      label.textContent = `Downloading \"${filename}\": `;\n",
              "      div.appendChild(label);\n",
              "      const progress = document.createElement('progress');\n",
              "      progress.max = size;\n",
              "      div.appendChild(progress);\n",
              "      document.body.appendChild(div);\n",
              "\n",
              "      const buffers = [];\n",
              "      let downloaded = 0;\n",
              "\n",
              "      const channel = await google.colab.kernel.comms.open(id);\n",
              "      // Send a message to notify the kernel that we're ready.\n",
              "      channel.send({})\n",
              "\n",
              "      for await (const message of channel.messages) {\n",
              "        // Send a message to notify the kernel that we're ready.\n",
              "        channel.send({})\n",
              "        if (message.buffers) {\n",
              "          for (const buffer of message.buffers) {\n",
              "            buffers.push(buffer);\n",
              "            downloaded += buffer.byteLength;\n",
              "            progress.value = downloaded;\n",
              "          }\n",
              "        }\n",
              "      }\n",
              "      const blob = new Blob(buffers, {type: 'application/binary'});\n",
              "      const a = document.createElement('a');\n",
              "      a.href = window.URL.createObjectURL(blob);\n",
              "      a.download = filename;\n",
              "      div.appendChild(a);\n",
              "      a.click();\n",
              "      div.remove();\n",
              "    }\n",
              "  "
            ]
          },
          "metadata": {}
        },
        {
          "output_type": "display_data",
          "data": {
            "text/plain": [
              "<IPython.core.display.Javascript object>"
            ],
            "application/javascript": [
              "download(\"download_6c80cf1f-491e-4b5e-a844-c4fb39089ad5\", \"faiss_index.zip\", 199719)"
            ]
          },
          "metadata": {}
        }
      ]
    },
    {
      "cell_type": "code",
      "source": [
        "%cd /content/images"
      ],
      "metadata": {
        "colab": {
          "base_uri": "https://localhost:8080/"
        },
        "id": "wnMO6Ig5z4Om",
        "outputId": "b018e18f-c0ac-485b-baf4-00b90f54fdd4"
      },
      "execution_count": 33,
      "outputs": [
        {
          "output_type": "stream",
          "name": "stdout",
          "text": [
            "/content/images\n"
          ]
        }
      ]
    },
    {
      "cell_type": "code",
      "source": [
        "!zip -r images.zip /content/images"
      ],
      "metadata": {
        "colab": {
          "base_uri": "https://localhost:8080/"
        },
        "id": "EQ03v7ZN09KF",
        "outputId": "83448732-37e1-4f98-aee8-c67a43b13f30"
      },
      "execution_count": 34,
      "outputs": [
        {
          "output_type": "stream",
          "name": "stdout",
          "text": [
            "  adding: content/images/ (stored 0%)\n",
            "  adding: content/images/figure-1-2.jpg (deflated 3%)\n",
            "  adding: content/images/figure-1-6.jpg (deflated 4%)\n",
            "  adding: content/images/figure-1-7.jpg (deflated 3%)\n",
            "  adding: content/images/figure-1-5.jpg (deflated 1%)\n",
            "  adding: content/images/figure-1-1.jpg (deflated 5%)\n",
            "  adding: content/images/figure-1-4.jpg (deflated 1%)\n",
            "  adding: content/images/figure-1-11.jpg (deflated 4%)\n",
            "  adding: content/images/figure-1-3.jpg (deflated 2%)\n",
            "  adding: content/images/figure-1-9.jpg (deflated 2%)\n",
            "  adding: content/images/figure-1-8.jpg (deflated 13%)\n",
            "  adding: content/images/figure-1-10.jpg (deflated 3%)\n"
          ]
        }
      ]
    },
    {
      "cell_type": "code",
      "source": [
        "from google.colab import files\n",
        "files.download('images.zip')"
      ],
      "metadata": {
        "colab": {
          "base_uri": "https://localhost:8080/",
          "height": 17
        },
        "id": "Ls1HajlN045K",
        "outputId": "fdf69ce3-a448-4b81-c024-1e6deed5c337"
      },
      "execution_count": 35,
      "outputs": [
        {
          "output_type": "display_data",
          "data": {
            "text/plain": [
              "<IPython.core.display.Javascript object>"
            ],
            "application/javascript": [
              "\n",
              "    async function download(id, filename, size) {\n",
              "      if (!google.colab.kernel.accessAllowed) {\n",
              "        return;\n",
              "      }\n",
              "      const div = document.createElement('div');\n",
              "      const label = document.createElement('label');\n",
              "      label.textContent = `Downloading \"${filename}\": `;\n",
              "      div.appendChild(label);\n",
              "      const progress = document.createElement('progress');\n",
              "      progress.max = size;\n",
              "      div.appendChild(progress);\n",
              "      document.body.appendChild(div);\n",
              "\n",
              "      const buffers = [];\n",
              "      let downloaded = 0;\n",
              "\n",
              "      const channel = await google.colab.kernel.comms.open(id);\n",
              "      // Send a message to notify the kernel that we're ready.\n",
              "      channel.send({})\n",
              "\n",
              "      for await (const message of channel.messages) {\n",
              "        // Send a message to notify the kernel that we're ready.\n",
              "        channel.send({})\n",
              "        if (message.buffers) {\n",
              "          for (const buffer of message.buffers) {\n",
              "            buffers.push(buffer);\n",
              "            downloaded += buffer.byteLength;\n",
              "            progress.value = downloaded;\n",
              "          }\n",
              "        }\n",
              "      }\n",
              "      const blob = new Blob(buffers, {type: 'application/binary'});\n",
              "      const a = document.createElement('a');\n",
              "      a.href = window.URL.createObjectURL(blob);\n",
              "      a.download = filename;\n",
              "      div.appendChild(a);\n",
              "      a.click();\n",
              "      div.remove();\n",
              "    }\n",
              "  "
            ]
          },
          "metadata": {}
        },
        {
          "output_type": "display_data",
          "data": {
            "text/plain": [
              "<IPython.core.display.Javascript object>"
            ],
            "application/javascript": [
              "download(\"download_e0bba144-dc15-41f0-b091-1f7eb43ec324\", \"images.zip\", 135989)"
            ]
          },
          "metadata": {}
        }
      ]
    },
    {
      "cell_type": "code",
      "source": [],
      "metadata": {
        "id": "j_oVsT4u1FAH"
      },
      "execution_count": null,
      "outputs": []
    }
  ]
}